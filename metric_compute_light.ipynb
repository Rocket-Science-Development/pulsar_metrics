{
 "cells": [
  {
   "cell_type": "code",
   "execution_count": 1,
   "metadata": {},
   "outputs": [],
   "source": [
    "import pandas as pd\n",
    "from datetime import datetime\n",
    "import matplotlib.pyplot as plt\n",
    "import numpy as np"
   ]
  },
  {
   "cell_type": "code",
   "execution_count": 2,
   "metadata": {},
   "outputs": [],
   "source": [
    "%load_ext autoreload\n",
    "%autoreload 2"
   ]
  },
  {
   "cell_type": "markdown",
   "metadata": {},
   "source": [
    "## Metrics results class"
   ]
  },
  {
   "cell_type": "markdown",
   "metadata": {},
   "source": [
    "### Metrics types"
   ]
  },
  {
   "cell_type": "code",
   "execution_count": 3,
   "metadata": {},
   "outputs": [],
   "source": [
    "from pulsar_metrics.metrics.base import MetricsType"
   ]
  },
  {
   "cell_type": "code",
   "execution_count": 4,
   "metadata": {},
   "outputs": [
    {
     "data": {
      "text/plain": [
       "['performance', 'drift', 'custom']"
      ]
     },
     "execution_count": 4,
     "metadata": {},
     "output_type": "execute_result"
    }
   ],
   "source": [
    "MetricsType._member_names_"
   ]
  },
  {
   "cell_type": "markdown",
   "metadata": {},
   "source": [
    "### Metric data structure"
   ]
  },
  {
   "cell_type": "code",
   "execution_count": 5,
   "metadata": {},
   "outputs": [],
   "source": [
    "from pulsar_metrics.metrics.base import MetricResults"
   ]
  },
  {
   "cell_type": "code",
   "execution_count": 6,
   "metadata": {},
   "outputs": [
    {
     "data": {
      "text/plain": [
       "MetricResults(metric_name=None, type='performance', model_id='model_1', model_version='1', data_id=None, feature=None, value=None, status=None, threshold=None, period_start=None, period_end=datetime.datetime(2022, 7, 1, 0, 0), eval_timestamp=datetime.datetime(2022, 9, 26, 10, 28, 27, 846122), conf_int=None)"
      ]
     },
     "execution_count": 6,
     "metadata": {},
     "output_type": "execute_result"
    }
   ],
   "source": [
    "result = MetricResults(\n",
    "    name=\"accuracy\", type=\"performance\", model_id=\"model_1\", model_version=1, period_end=datetime(2022, 7, 1)\n",
    ")\n",
    "result"
   ]
  },
  {
   "cell_type": "markdown",
   "metadata": {},
   "source": [
    "## Loading datasets"
   ]
  },
  {
   "cell_type": "code",
   "execution_count": 7,
   "metadata": {},
   "outputs": [],
   "source": [
    "data_ref = pd.read_csv('california_ref.csv')\n",
    "data_new = pd.read_csv('california_new.csv')"
   ]
  },
  {
   "cell_type": "code",
   "execution_count": 8,
   "metadata": {},
   "outputs": [
    {
     "data": {
      "text/html": [
       "<div>\n",
       "<style scoped>\n",
       "    .dataframe tbody tr th:only-of-type {\n",
       "        vertical-align: middle;\n",
       "    }\n",
       "\n",
       "    .dataframe tbody tr th {\n",
       "        vertical-align: top;\n",
       "    }\n",
       "\n",
       "    .dataframe thead th {\n",
       "        text-align: right;\n",
       "    }\n",
       "</style>\n",
       "<table border=\"1\" class=\"dataframe\">\n",
       "  <thead>\n",
       "    <tr style=\"text-align: right;\">\n",
       "      <th></th>\n",
       "      <th>MedInc</th>\n",
       "      <th>HouseAge</th>\n",
       "      <th>AveRooms</th>\n",
       "      <th>AveBedrms</th>\n",
       "      <th>Population</th>\n",
       "      <th>AveOccup</th>\n",
       "      <th>Latitude</th>\n",
       "      <th>Longitude</th>\n",
       "      <th>pred_timestamp</th>\n",
       "      <th>period</th>\n",
       "      <th>clf_target</th>\n",
       "      <th>y_pred_proba</th>\n",
       "      <th>y_pred</th>\n",
       "      <th>identifier</th>\n",
       "      <th>model_id</th>\n",
       "      <th>model_version</th>\n",
       "    </tr>\n",
       "  </thead>\n",
       "  <tbody>\n",
       "    <tr>\n",
       "      <th>0</th>\n",
       "      <td>9.8413</td>\n",
       "      <td>32.0</td>\n",
       "      <td>7.170040</td>\n",
       "      <td>1.014845</td>\n",
       "      <td>4353.0</td>\n",
       "      <td>2.937247</td>\n",
       "      <td>34.22</td>\n",
       "      <td>-118.19</td>\n",
       "      <td>2020-10-01 00:00:00</td>\n",
       "      <td>reference</td>\n",
       "      <td>1</td>\n",
       "      <td>0.99</td>\n",
       "      <td>1</td>\n",
       "      <td>0</td>\n",
       "      <td>1</td>\n",
       "      <td>2</td>\n",
       "    </tr>\n",
       "    <tr>\n",
       "      <th>1</th>\n",
       "      <td>8.3695</td>\n",
       "      <td>37.0</td>\n",
       "      <td>7.458746</td>\n",
       "      <td>1.062706</td>\n",
       "      <td>941.0</td>\n",
       "      <td>3.105611</td>\n",
       "      <td>34.22</td>\n",
       "      <td>-118.21</td>\n",
       "      <td>2020-10-01 01:00:00</td>\n",
       "      <td>reference</td>\n",
       "      <td>1</td>\n",
       "      <td>1.00</td>\n",
       "      <td>1</td>\n",
       "      <td>1</td>\n",
       "      <td>1</td>\n",
       "      <td>2</td>\n",
       "    </tr>\n",
       "    <tr>\n",
       "      <th>2</th>\n",
       "      <td>8.7200</td>\n",
       "      <td>44.0</td>\n",
       "      <td>6.163180</td>\n",
       "      <td>1.046025</td>\n",
       "      <td>668.0</td>\n",
       "      <td>2.794979</td>\n",
       "      <td>34.20</td>\n",
       "      <td>-118.18</td>\n",
       "      <td>2020-10-01 02:00:00</td>\n",
       "      <td>reference</td>\n",
       "      <td>1</td>\n",
       "      <td>1.00</td>\n",
       "      <td>1</td>\n",
       "      <td>2</td>\n",
       "      <td>1</td>\n",
       "      <td>2</td>\n",
       "    </tr>\n",
       "    <tr>\n",
       "      <th>3</th>\n",
       "      <td>7.4190</td>\n",
       "      <td>41.0</td>\n",
       "      <td>6.725166</td>\n",
       "      <td>0.973510</td>\n",
       "      <td>859.0</td>\n",
       "      <td>2.844371</td>\n",
       "      <td>34.20</td>\n",
       "      <td>-118.19</td>\n",
       "      <td>2020-10-01 03:00:00</td>\n",
       "      <td>reference</td>\n",
       "      <td>1</td>\n",
       "      <td>1.00</td>\n",
       "      <td>1</td>\n",
       "      <td>3</td>\n",
       "      <td>1</td>\n",
       "      <td>2</td>\n",
       "    </tr>\n",
       "    <tr>\n",
       "      <th>4</th>\n",
       "      <td>6.5530</td>\n",
       "      <td>41.0</td>\n",
       "      <td>7.120000</td>\n",
       "      <td>1.013333</td>\n",
       "      <td>680.0</td>\n",
       "      <td>3.022222</td>\n",
       "      <td>34.21</td>\n",
       "      <td>-118.19</td>\n",
       "      <td>2020-10-01 04:00:00</td>\n",
       "      <td>reference</td>\n",
       "      <td>1</td>\n",
       "      <td>1.00</td>\n",
       "      <td>1</td>\n",
       "      <td>4</td>\n",
       "      <td>1</td>\n",
       "      <td>2</td>\n",
       "    </tr>\n",
       "  </tbody>\n",
       "</table>\n",
       "</div>"
      ],
      "text/plain": [
       "   MedInc  HouseAge  AveRooms  AveBedrms  Population  AveOccup  Latitude  \\\n",
       "0  9.8413      32.0  7.170040   1.014845      4353.0  2.937247     34.22   \n",
       "1  8.3695      37.0  7.458746   1.062706       941.0  3.105611     34.22   \n",
       "2  8.7200      44.0  6.163180   1.046025       668.0  2.794979     34.20   \n",
       "3  7.4190      41.0  6.725166   0.973510       859.0  2.844371     34.20   \n",
       "4  6.5530      41.0  7.120000   1.013333       680.0  3.022222     34.21   \n",
       "\n",
       "   Longitude       pred_timestamp     period  clf_target  y_pred_proba  \\\n",
       "0    -118.19  2020-10-01 00:00:00  reference           1          0.99   \n",
       "1    -118.21  2020-10-01 01:00:00  reference           1          1.00   \n",
       "2    -118.18  2020-10-01 02:00:00  reference           1          1.00   \n",
       "3    -118.19  2020-10-01 03:00:00  reference           1          1.00   \n",
       "4    -118.19  2020-10-01 04:00:00  reference           1          1.00   \n",
       "\n",
       "   y_pred  identifier  model_id  model_version  \n",
       "0       1           0         1              2  \n",
       "1       1           1         1              2  \n",
       "2       1           2         1              2  \n",
       "3       1           3         1              2  \n",
       "4       1           4         1              2  "
      ]
     },
     "execution_count": 8,
     "metadata": {},
     "output_type": "execute_result"
    }
   ],
   "source": [
    "data_ref.head()"
   ]
  },
  {
   "cell_type": "markdown",
   "metadata": {},
   "source": [
    "## Drift Class"
   ]
  },
  {
   "cell_type": "code",
   "execution_count": 9,
   "metadata": {},
   "outputs": [],
   "source": [
    "from pulsar_metrics.metrics.drift import DriftTestMetric, DriftMetric, DriftMetricsFuncs, DriftTestMetricsFuncs"
   ]
  },
  {
   "cell_type": "code",
   "execution_count": 10,
   "metadata": {},
   "outputs": [
    {
     "data": {
      "text/plain": [
       "['kl', 'wasserstein']"
      ]
     },
     "execution_count": 10,
     "metadata": {},
     "output_type": "execute_result"
    }
   ],
   "source": [
    "DriftMetricsFuncs._member_names_"
   ]
  },
  {
   "cell_type": "code",
   "execution_count": 11,
   "metadata": {},
   "outputs": [
    {
     "data": {
      "text/plain": [
       "['ttest', 'manwu', 'levene', 'bftest', 'ks_2samp', 'CvM', 'chi2']"
      ]
     },
     "execution_count": 11,
     "metadata": {},
     "output_type": "execute_result"
    }
   ],
   "source": [
    "DriftTestMetricsFuncs._member_names_"
   ]
  },
  {
   "cell_type": "markdown",
   "metadata": {},
   "source": [
    "### Test Drift metrics"
   ]
  },
  {
   "cell_type": "code",
   "execution_count": 33,
   "metadata": {},
   "outputs": [
    {
     "data": {
      "text/plain": [
       "<matplotlib.legend.Legend at 0x7fbd7f534220>"
      ]
     },
     "execution_count": 33,
     "metadata": {},
     "output_type": "execute_result"
    },
    {
     "data": {
      "image/png": "[encoded data removed]",
      "text/plain": [
       "<Figure size 720x576 with 1 Axes>"
      ]
     },
     "metadata": {
      "needs_background": "light"
     },
     "output_type": "display_data"
    }
   ],
   "source": [
    "feature_name = 'MedInc'\n",
    "#feature_name = 'Population'\n",
    "fig, ax = plt.subplots(1, 1, figsize = (10, 8))\n",
    "data_ref[feature_name].plot.density(ax = ax, alpha = 0.5, label = 'reference')\n",
    "plt.axvline(data_ref[feature_name].mean())\n",
    "data_new[feature_name].plot.density(ax = ax, alpha = 0.5, label = 'New')\n",
    "plt.axvline(data_new[feature_name].mean())\n",
    "#ax.set_xlim((0, 6000))\n",
    "plt.legend()"
   ]
  },
  {
   "cell_type": "code",
   "execution_count": 31,
   "metadata": {},
   "outputs": [
    {
     "data": {
      "text/plain": [
       "MetricResults(metric_name='ttest', type='drift', model_id='1', model_version='2', data_id=None, feature='Population', value=0.012845290639447384, status=True, threshold=0.05, period_start=Timestamp('2021-06-01 00:00:00'), period_end=Timestamp('2022-05-09 23:00:00'), eval_timestamp=datetime.datetime(2022, 9, 26, 10, 28, 27, 846122), conf_int=None)"
      ]
     },
     "execution_count": 31,
     "metadata": {},
     "output_type": "execute_result"
    }
   ],
   "source": [
    "\n",
    "driftTest = DriftTestMetric(name = 'ttest', data = data_new, feature_name = feature_name)\n",
    "driftTest.evaluate(alpha = 0.05, reference = data_ref[feature_name])"
   ]
  },
  {
   "cell_type": "code",
   "execution_count": 32,
   "metadata": {},
   "outputs": [
    {
     "data": {
      "text/plain": [
       "MetricResults(metric_name='CvM', type='drift', model_id='1', model_version='2', data_id=None, feature='Population', value=0.06844867814003908, status=False, threshold=0.05, period_start=Timestamp('2021-06-01 00:00:00'), period_end=Timestamp('2022-05-09 23:00:00'), eval_timestamp=datetime.datetime(2022, 9, 26, 10, 28, 27, 846122), conf_int=None)"
      ]
     },
     "execution_count": 32,
     "metadata": {},
     "output_type": "execute_result"
    }
   ],
   "source": [
    "driftTest = DriftTestMetric(name = 'CvM', data = data_new, feature_name = feature_name)\n",
    "driftTest.evaluate(alpha = 0.05, reference = data_ref[feature_name])"
   ]
  },
  {
   "cell_type": "markdown",
   "metadata": {},
   "source": [
    "### Non test drift metrics"
   ]
  },
  {
   "cell_type": "code",
   "execution_count": 15,
   "metadata": {},
   "outputs": [
    {
     "data": {
      "text/plain": [
       "MetricResults(metric_name='kl', type='drift', model_id='1', model_version='2', data_id=None, feature='MedInc', value=0.01881080682460068, status=None, threshold=None, period_start=Timestamp('2021-06-01 00:00:00'), period_end=Timestamp('2022-05-09 23:00:00'), eval_timestamp=datetime.datetime(2022, 9, 26, 10, 28, 27, 846122), conf_int=None)"
      ]
     },
     "execution_count": 15,
     "metadata": {},
     "output_type": "execute_result"
    }
   ],
   "source": [
    "drift = DriftMetric(name = 'kl', data = data_new, feature_name = feature_name)\n",
    "drift.evaluate(reference = data_ref[feature_name], threshold = None)"
   ]
  },
  {
   "cell_type": "markdown",
   "metadata": {},
   "source": [
    "## Custom metric class    "
   ]
  },
  {
   "cell_type": "code",
   "execution_count": 16,
   "metadata": {},
   "outputs": [],
   "source": [
    "from pulsar_metrics.metrics.base import CustomMetric"
   ]
  },
  {
   "cell_type": "code",
   "execution_count": 17,
   "metadata": {},
   "outputs": [],
   "source": [
    "@CustomMetric\n",
    "def test_custom(a, b, **kwargs):\n",
    "    return np.max(a - b)"
   ]
  },
  {
   "cell_type": "code",
   "execution_count": 18,
   "metadata": {},
   "outputs": [],
   "source": [
    "cus = test_custom(name = 'test', data = data_ref)"
   ]
  },
  {
   "cell_type": "code",
   "execution_count": 19,
   "metadata": {},
   "outputs": [
    {
     "data": {
      "text/plain": [
       "MetricResults(metric_name='test', type='custom', model_id='1', model_version='2', data_id=None, feature=None, value=-1.0, status=True, threshold=2.0, period_start=Timestamp('2020-10-01 00:00:00'), period_end=Timestamp('2021-05-31 23:00:00'), eval_timestamp=datetime.datetime(2022, 9, 26, 10, 28, 27, 846122), conf_int=None)"
      ]
     },
     "execution_count": 19,
     "metadata": {},
     "output_type": "execute_result"
    }
   ],
   "source": [
    "cus.evaluate(a = 1, b = 2, threshold = 2)"
   ]
  },
  {
   "cell_type": "markdown",
   "metadata": {},
   "source": [
    "## Performance metrics"
   ]
  },
  {
   "cell_type": "markdown",
   "metadata": {},
   "source": [
    "### Implemented metrics"
   ]
  },
  {
   "cell_type": "code",
   "execution_count": 20,
   "metadata": {},
   "outputs": [],
   "source": [
    "from pulsar_metrics.metrics.performance import PerformanceMetricsFuncs"
   ]
  },
  {
   "cell_type": "code",
   "execution_count": 21,
   "metadata": {},
   "outputs": [
    {
     "data": {
      "text/plain": [
       "['accuracy',\n",
       " 'precision',\n",
       " 'recall',\n",
       " 'f1',\n",
       " 'log_loss',\n",
       " 'auc',\n",
       " 'aucpr',\n",
       " 'brier',\n",
       " 'mse',\n",
       " 'mae',\n",
       " 'mape',\n",
       " 'r2']"
      ]
     },
     "execution_count": 21,
     "metadata": {},
     "output_type": "execute_result"
    }
   ],
   "source": [
    "PerformanceMetricsFuncs._member_names_"
   ]
  },
  {
   "cell_type": "markdown",
   "metadata": {},
   "source": [
    "### Exemple performance metric"
   ]
  },
  {
   "cell_type": "code",
   "execution_count": 22,
   "metadata": {},
   "outputs": [],
   "source": [
    "from pulsar_metrics.metrics.performance import PerformanceMetric"
   ]
  },
  {
   "cell_type": "code",
   "execution_count": 23,
   "metadata": {},
   "outputs": [],
   "source": [
    "precision = PerformanceMetric(name = 'precision', data = data_ref, y_name = 'clf_target')"
   ]
  },
  {
   "cell_type": "code",
   "execution_count": 24,
   "metadata": {},
   "outputs": [
    {
     "data": {
      "text/plain": [
       "MetricResults(metric_name='precision', type='performance', model_id='1', model_version='2', data_id=None, feature='prediction', value=0.6704389574759945, status=False, threshold=0.5, period_start=Timestamp('2020-10-01 00:00:00'), period_end=Timestamp('2021-05-31 23:00:00'), eval_timestamp=datetime.datetime(2022, 9, 26, 10, 28, 27, 846122), conf_int=[0.6586462620027435, 0.68292609739369])"
      ]
     },
     "execution_count": 24,
     "metadata": {},
     "output_type": "execute_result"
    }
   ],
   "source": [
    "precision.evaluate(bootstrap=True, average = 'micro', threshold = 0.5)"
   ]
  },
  {
   "cell_type": "markdown",
   "metadata": {},
   "source": [
    "## Running an analyzer with multiple metrics"
   ]
  },
  {
   "cell_type": "code",
   "execution_count": 25,
   "metadata": {},
   "outputs": [],
   "source": [
    "from pulsar_metrics.analyzers.base import Analyzer"
   ]
  },
  {
   "cell_type": "code",
   "execution_count": 26,
   "metadata": {},
   "outputs": [],
   "source": [
    "analysis = Analyzer(name = 'First Analyzer', description='My first Analyzer', data = data_new)"
   ]
  },
  {
   "cell_type": "code",
   "execution_count": 27,
   "metadata": {},
   "outputs": [
    {
     "name": "stdout",
     "output_type": "stream",
     "text": [
      "Drift metric 'wasserstein' for feature 'Population' added to the analyzer list\n",
      "Drift metric 'wasserstein' for feature 'MedInc' added to the analyzer list\n",
      "Drift metric 'ttest' for feature 'Population' added to the analyzer list\n",
      "Drift metric 'ttest' for feature 'MedInc' added to the analyzer list\n",
      "Drift metric 'ks_2samp' for feature 'Population' added to the analyzer list\n",
      "Drift metric 'ks_2samp' for feature 'MedInc' added to the analyzer list\n",
      "'clf_target'\n",
      "The dataset contains no ground truth for performance assessment. Metric 'accuracy' was NOT added to the analyzer list\n"
     ]
    }
   ],
   "source": [
    "analysis.add_drift_metrics(metrics_list=['wasserstein', 'ttest', 'ks_2samp'], features_list=['Population', 'MedInc']);\n",
    "analysis.add_performance_metrics(metrics_list=['accuracy'], y_name = 'clf_target');"
   ]
  },
  {
   "cell_type": "code",
   "execution_count": 28,
   "metadata": {},
   "outputs": [],
   "source": [
    "analysis.run(data_ref = data_ref, options = {'ttest': {'alpha': 0.01, 'equal_var': False}})"
   ]
  },
  {
   "cell_type": "code",
   "execution_count": 29,
   "metadata": {},
   "outputs": [
    {
     "data": {
      "text/html": [
       "<div>\n",
       "<style scoped>\n",
       "    .dataframe tbody tr th:only-of-type {\n",
       "        vertical-align: middle;\n",
       "    }\n",
       "\n",
       "    .dataframe tbody tr th {\n",
       "        vertical-align: top;\n",
       "    }\n",
       "\n",
       "    .dataframe thead th {\n",
       "        text-align: right;\n",
       "    }\n",
       "</style>\n",
       "<table border=\"1\" class=\"dataframe\">\n",
       "  <thead>\n",
       "    <tr style=\"text-align: right;\">\n",
       "      <th></th>\n",
       "      <th>metric_name</th>\n",
       "      <th>type</th>\n",
       "      <th>model_id</th>\n",
       "      <th>model_version</th>\n",
       "      <th>data_id</th>\n",
       "      <th>feature</th>\n",
       "      <th>value</th>\n",
       "      <th>status</th>\n",
       "      <th>threshold</th>\n",
       "      <th>period_start</th>\n",
       "      <th>period_end</th>\n",
       "      <th>eval_timestamp</th>\n",
       "      <th>conf_int</th>\n",
       "    </tr>\n",
       "  </thead>\n",
       "  <tbody>\n",
       "    <tr>\n",
       "      <th>0</th>\n",
       "      <td>wasserstein</td>\n",
       "      <td>drift</td>\n",
       "      <td>1</td>\n",
       "      <td>2</td>\n",
       "      <td>None</td>\n",
       "      <td>Population</td>\n",
       "      <td>5.258844e+01</td>\n",
       "      <td>None</td>\n",
       "      <td>NaN</td>\n",
       "      <td>2021-06-01</td>\n",
       "      <td>2022-05-09 23:00:00</td>\n",
       "      <td>2022-09-26 10:28:27.846122</td>\n",
       "      <td>None</td>\n",
       "    </tr>\n",
       "    <tr>\n",
       "      <th>1</th>\n",
       "      <td>wasserstein</td>\n",
       "      <td>drift</td>\n",
       "      <td>1</td>\n",
       "      <td>2</td>\n",
       "      <td>None</td>\n",
       "      <td>MedInc</td>\n",
       "      <td>3.047303e-01</td>\n",
       "      <td>None</td>\n",
       "      <td>NaN</td>\n",
       "      <td>2021-06-01</td>\n",
       "      <td>2022-05-09 23:00:00</td>\n",
       "      <td>2022-09-26 10:28:27.846122</td>\n",
       "      <td>None</td>\n",
       "    </tr>\n",
       "    <tr>\n",
       "      <th>2</th>\n",
       "      <td>ttest</td>\n",
       "      <td>drift</td>\n",
       "      <td>1</td>\n",
       "      <td>2</td>\n",
       "      <td>None</td>\n",
       "      <td>Population</td>\n",
       "      <td>1.284529e-02</td>\n",
       "      <td>False</td>\n",
       "      <td>0.01</td>\n",
       "      <td>2021-06-01</td>\n",
       "      <td>2022-05-09 23:00:00</td>\n",
       "      <td>2022-09-26 10:28:27.846122</td>\n",
       "      <td>None</td>\n",
       "    </tr>\n",
       "    <tr>\n",
       "      <th>3</th>\n",
       "      <td>ttest</td>\n",
       "      <td>drift</td>\n",
       "      <td>1</td>\n",
       "      <td>2</td>\n",
       "      <td>None</td>\n",
       "      <td>MedInc</td>\n",
       "      <td>4.860186e-21</td>\n",
       "      <td>True</td>\n",
       "      <td>0.01</td>\n",
       "      <td>2021-06-01</td>\n",
       "      <td>2022-05-09 23:00:00</td>\n",
       "      <td>2022-09-26 10:28:27.846122</td>\n",
       "      <td>None</td>\n",
       "    </tr>\n",
       "    <tr>\n",
       "      <th>4</th>\n",
       "      <td>ks_2samp</td>\n",
       "      <td>drift</td>\n",
       "      <td>1</td>\n",
       "      <td>2</td>\n",
       "      <td>None</td>\n",
       "      <td>Population</td>\n",
       "      <td>9.347256e-02</td>\n",
       "      <td>False</td>\n",
       "      <td>0.05</td>\n",
       "      <td>2021-06-01</td>\n",
       "      <td>2022-05-09 23:00:00</td>\n",
       "      <td>2022-09-26 10:28:27.846122</td>\n",
       "      <td>None</td>\n",
       "    </tr>\n",
       "    <tr>\n",
       "      <th>5</th>\n",
       "      <td>ks_2samp</td>\n",
       "      <td>drift</td>\n",
       "      <td>1</td>\n",
       "      <td>2</td>\n",
       "      <td>None</td>\n",
       "      <td>MedInc</td>\n",
       "      <td>2.997602e-14</td>\n",
       "      <td>True</td>\n",
       "      <td>0.05</td>\n",
       "      <td>2021-06-01</td>\n",
       "      <td>2022-05-09 23:00:00</td>\n",
       "      <td>2022-09-26 10:28:27.846122</td>\n",
       "      <td>None</td>\n",
       "    </tr>\n",
       "  </tbody>\n",
       "</table>\n",
       "</div>"
      ],
      "text/plain": [
       "   metric_name   type model_id model_version data_id     feature  \\\n",
       "0  wasserstein  drift        1             2    None  Population   \n",
       "1  wasserstein  drift        1             2    None      MedInc   \n",
       "2        ttest  drift        1             2    None  Population   \n",
       "3        ttest  drift        1             2    None      MedInc   \n",
       "4     ks_2samp  drift        1             2    None  Population   \n",
       "5     ks_2samp  drift        1             2    None      MedInc   \n",
       "\n",
       "          value status  threshold period_start          period_end  \\\n",
       "0  5.258844e+01   None        NaN   2021-06-01 2022-05-09 23:00:00   \n",
       "1  3.047303e-01   None        NaN   2021-06-01 2022-05-09 23:00:00   \n",
       "2  1.284529e-02  False       0.01   2021-06-01 2022-05-09 23:00:00   \n",
       "3  4.860186e-21   True       0.01   2021-06-01 2022-05-09 23:00:00   \n",
       "4  9.347256e-02  False       0.05   2021-06-01 2022-05-09 23:00:00   \n",
       "5  2.997602e-14   True       0.05   2021-06-01 2022-05-09 23:00:00   \n",
       "\n",
       "              eval_timestamp conf_int  \n",
       "0 2022-09-26 10:28:27.846122     None  \n",
       "1 2022-09-26 10:28:27.846122     None  \n",
       "2 2022-09-26 10:28:27.846122     None  \n",
       "3 2022-09-26 10:28:27.846122     None  \n",
       "4 2022-09-26 10:28:27.846122     None  \n",
       "5 2022-09-26 10:28:27.846122     None  "
      ]
     },
     "execution_count": 29,
     "metadata": {},
     "output_type": "execute_result"
    }
   ],
   "source": [
    "analysis.results_to_pandas()"
   ]
  },
  {
   "cell_type": "code",
   "execution_count": null,
   "metadata": {},
   "outputs": [],
   "source": []
  }
 ],
 "metadata": {
  "interpreter": {
   "hash": "1c3d32cd99eeeff60d6e120bed6afb1c525328e0a32a6d151d066953e31db362"
  },
  "kernelspec": {
   "display_name": "Python 3.9.12 ('rs-metrics2')",
   "language": "python",
   "name": "python3"
  },
  "language_info": {
   "codemirror_mode": {
    "name": "ipython",
    "version": 3
   },
   "file_extension": ".py",
   "mimetype": "text/x-python",
   "name": "python",
   "nbconvert_exporter": "python",
   "pygments_lexer": "ipython3",
   "version": "3.9.12 (main, Jun  1 2022, 06:36:29) \n[Clang 12.0.0 ]"
  },
  "orig_nbformat": 4
 },
 "nbformat": 4,
 "nbformat_minor": 2
}
