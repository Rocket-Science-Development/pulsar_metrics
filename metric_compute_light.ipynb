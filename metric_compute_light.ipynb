{
 "cells": [
  {
   "cell_type": "code",
   "execution_count": 5,
   "metadata": {},
   "outputs": [],
   "source": [
    "import pandas as pd\n",
    "from datetime import datetime\n",
    "import matplotlib.pyplot as plt\n",
    "import numpy as np"
   ]
  },
  {
   "cell_type": "code",
   "execution_count": 6,
   "metadata": {},
   "outputs": [
    {
     "name": "stdout",
     "output_type": "stream",
     "text": [
      "The autoreload extension is already loaded. To reload it, use:\n",
      "  %reload_ext autoreload\n"
     ]
    }
   ],
   "source": [
    "%load_ext autoreload\n",
    "%autoreload 2"
   ]
  },
  {
   "cell_type": "markdown",
   "metadata": {},
   "source": [
    "## Metrics results class"
   ]
  },
  {
   "cell_type": "markdown",
   "metadata": {},
   "source": [
    "### Metrics types"
   ]
  },
  {
   "cell_type": "code",
   "execution_count": 3,
   "metadata": {},
   "outputs": [],
   "source": [
    "from pulsar_metrics.metrics.base import MetricsType"
   ]
  },
  {
   "cell_type": "code",
   "execution_count": 4,
   "metadata": {},
   "outputs": [
    {
     "data": {
      "text/plain": [
       "['performance', 'drift', 'custom']"
      ]
     },
     "execution_count": 4,
     "metadata": {},
     "output_type": "execute_result"
    }
   ],
   "source": [
    "MetricsType._member_names_"
   ]
  },
  {
   "cell_type": "markdown",
   "metadata": {},
   "source": [
    "### Metric data structure"
   ]
  },
  {
   "cell_type": "code",
   "execution_count": 5,
   "metadata": {},
   "outputs": [],
   "source": [
    "from pulsar_metrics.metrics.base import MetricResults"
   ]
  },
  {
   "cell_type": "code",
   "execution_count": 6,
   "metadata": {},
   "outputs": [
    {
     "data": {
      "text/plain": [
       "MetricResults(metric_name=None, type='performance', model_id='model_1', model_version='1', data_id=None, feature=None, value=None, status=None, threshold=None, period_start=None, period_end=datetime.datetime(2022, 7, 1, 0, 0), eval_timestamp=datetime.datetime(2022, 9, 26, 10, 28, 27, 846122), conf_int=None)"
      ]
     },
     "execution_count": 6,
     "metadata": {},
     "output_type": "execute_result"
    }
   ],
   "source": [
    "result = MetricResults(\n",
    "    name=\"accuracy\", type=\"performance\", model_id=\"model_1\", model_version=1, period_end=datetime(2022, 7, 1)\n",
    ")\n",
    "result"
   ]
  },
  {
   "cell_type": "markdown",
   "metadata": {},
   "source": [
    "## Loading datasets"
   ]
  },
  {
   "cell_type": "code",
   "execution_count": 13,
   "metadata": {},
   "outputs": [],
   "source": [
    "data_ref = pd.read_csv('data/california_ref.csv')\n",
    "data_new = pd.read_csv('data/california_new.csv')"
   ]
  },
  {
   "cell_type": "code",
   "execution_count": 14,
   "metadata": {},
   "outputs": [
    {
     "data": {
      "text/html": [
       "<div>\n",
       "<style scoped>\n",
       "    .dataframe tbody tr th:only-of-type {\n",
       "        vertical-align: middle;\n",
       "    }\n",
       "\n",
       "    .dataframe tbody tr th {\n",
       "        vertical-align: top;\n",
       "    }\n",
       "\n",
       "    .dataframe thead th {\n",
       "        text-align: right;\n",
       "    }\n",
       "</style>\n",
       "<table border=\"1\" class=\"dataframe\">\n",
       "  <thead>\n",
       "    <tr style=\"text-align: right;\">\n",
       "      <th></th>\n",
       "      <th>MedInc</th>\n",
       "      <th>HouseAge</th>\n",
       "      <th>AveRooms</th>\n",
       "      <th>AveBedrms</th>\n",
       "      <th>Population</th>\n",
       "      <th>AveOccup</th>\n",
       "      <th>Latitude</th>\n",
       "      <th>Longitude</th>\n",
       "      <th>pred_timestamp</th>\n",
       "      <th>clf_target</th>\n",
       "      <th>y_pred_proba</th>\n",
       "      <th>y_pred</th>\n",
       "      <th>identifier</th>\n",
       "      <th>model_id</th>\n",
       "      <th>model_version</th>\n",
       "    </tr>\n",
       "  </thead>\n",
       "  <tbody>\n",
       "    <tr>\n",
       "      <th>0</th>\n",
       "      <td>4.1083</td>\n",
       "      <td>6.0</td>\n",
       "      <td>3.933941</td>\n",
       "      <td>1.152620</td>\n",
       "      <td>1200.0</td>\n",
       "      <td>2.733485</td>\n",
       "      <td>34.14</td>\n",
       "      <td>-118.26</td>\n",
       "      <td>2020-05-01 00:00:00</td>\n",
       "      <td>1</td>\n",
       "      <td>0.79</td>\n",
       "      <td>0</td>\n",
       "      <td>0</td>\n",
       "      <td>1</td>\n",
       "      <td>2</td>\n",
       "    </tr>\n",
       "    <tr>\n",
       "      <th>1</th>\n",
       "      <td>3.0080</td>\n",
       "      <td>7.0</td>\n",
       "      <td>3.854620</td>\n",
       "      <td>1.054348</td>\n",
       "      <td>2287.0</td>\n",
       "      <td>3.107337</td>\n",
       "      <td>34.15</td>\n",
       "      <td>-118.27</td>\n",
       "      <td>2020-05-01 00:30:00</td>\n",
       "      <td>1</td>\n",
       "      <td>0.88</td>\n",
       "      <td>1</td>\n",
       "      <td>1</td>\n",
       "      <td>1</td>\n",
       "      <td>2</td>\n",
       "    </tr>\n",
       "    <tr>\n",
       "      <th>2</th>\n",
       "      <td>2.6673</td>\n",
       "      <td>25.0</td>\n",
       "      <td>3.192040</td>\n",
       "      <td>1.105473</td>\n",
       "      <td>2843.0</td>\n",
       "      <td>2.828856</td>\n",
       "      <td>34.13</td>\n",
       "      <td>-118.26</td>\n",
       "      <td>2020-05-01 01:00:00</td>\n",
       "      <td>1</td>\n",
       "      <td>0.98</td>\n",
       "      <td>1</td>\n",
       "      <td>2</td>\n",
       "      <td>1</td>\n",
       "      <td>2</td>\n",
       "    </tr>\n",
       "    <tr>\n",
       "      <th>3</th>\n",
       "      <td>2.5000</td>\n",
       "      <td>37.0</td>\n",
       "      <td>3.066519</td>\n",
       "      <td>1.042129</td>\n",
       "      <td>1185.0</td>\n",
       "      <td>2.627494</td>\n",
       "      <td>34.13</td>\n",
       "      <td>-118.26</td>\n",
       "      <td>2020-05-01 01:30:00</td>\n",
       "      <td>1</td>\n",
       "      <td>0.95</td>\n",
       "      <td>1</td>\n",
       "      <td>3</td>\n",
       "      <td>1</td>\n",
       "      <td>2</td>\n",
       "    </tr>\n",
       "    <tr>\n",
       "      <th>4</th>\n",
       "      <td>1.2188</td>\n",
       "      <td>37.0</td>\n",
       "      <td>2.882353</td>\n",
       "      <td>1.088235</td>\n",
       "      <td>194.0</td>\n",
       "      <td>2.852941</td>\n",
       "      <td>34.13</td>\n",
       "      <td>-118.26</td>\n",
       "      <td>2020-05-01 02:00:00</td>\n",
       "      <td>1</td>\n",
       "      <td>0.68</td>\n",
       "      <td>0</td>\n",
       "      <td>4</td>\n",
       "      <td>1</td>\n",
       "      <td>2</td>\n",
       "    </tr>\n",
       "  </tbody>\n",
       "</table>\n",
       "</div>"
      ],
      "text/plain": [
       "   MedInc  HouseAge  AveRooms  AveBedrms  Population  AveOccup  Latitude  \\\n",
       "0  4.1083       6.0  3.933941   1.152620      1200.0  2.733485     34.14   \n",
       "1  3.0080       7.0  3.854620   1.054348      2287.0  3.107337     34.15   \n",
       "2  2.6673      25.0  3.192040   1.105473      2843.0  2.828856     34.13   \n",
       "3  2.5000      37.0  3.066519   1.042129      1185.0  2.627494     34.13   \n",
       "4  1.2188      37.0  2.882353   1.088235       194.0  2.852941     34.13   \n",
       "\n",
       "   Longitude       pred_timestamp  clf_target  y_pred_proba  y_pred  \\\n",
       "0    -118.26  2020-05-01 00:00:00           1          0.79       0   \n",
       "1    -118.27  2020-05-01 00:30:00           1          0.88       1   \n",
       "2    -118.26  2020-05-01 01:00:00           1          0.98       1   \n",
       "3    -118.26  2020-05-01 01:30:00           1          0.95       1   \n",
       "4    -118.26  2020-05-01 02:00:00           1          0.68       0   \n",
       "\n",
       "   identifier  model_id  model_version  \n",
       "0           0         1              2  \n",
       "1           1         1              2  \n",
       "2           2         1              2  \n",
       "3           3         1              2  \n",
       "4           4         1              2  "
      ]
     },
     "execution_count": 14,
     "metadata": {},
     "output_type": "execute_result"
    }
   ],
   "source": [
    "data_ref.head()"
   ]
  },
  {
   "cell_type": "markdown",
   "metadata": {},
   "source": [
    "## Drift Class"
   ]
  },
  {
   "cell_type": "code",
   "execution_count": 21,
   "metadata": {},
   "outputs": [],
   "source": [
    "from pulsar_metrics.metrics.drift import DriftTestMetric, DriftMetric, DriftMetricsFuncs, DriftTestMetricsFuncs"
   ]
  },
  {
   "cell_type": "code",
   "execution_count": 10,
   "metadata": {},
   "outputs": [
    {
     "data": {
      "text/plain": [
       "['kl', 'wasserstein']"
      ]
     },
     "execution_count": 10,
     "metadata": {},
     "output_type": "execute_result"
    }
   ],
   "source": [
    "DriftMetricsFuncs._member_names_"
   ]
  },
  {
   "cell_type": "code",
   "execution_count": 11,
   "metadata": {},
   "outputs": [
    {
     "data": {
      "text/plain": [
       "['ttest', 'manwu', 'levene', 'bftest', 'ks_2samp', 'CvM', 'chi2']"
      ]
     },
     "execution_count": 11,
     "metadata": {},
     "output_type": "execute_result"
    }
   ],
   "source": [
    "DriftTestMetricsFuncs._member_names_"
   ]
  },
  {
   "cell_type": "markdown",
   "metadata": {},
   "source": [
    "### Test Drift metrics"
   ]
  },
  {
   "cell_type": "code",
   "execution_count": 9,
   "metadata": {},
   "outputs": [
    {
     "data": {
      "text/plain": [
       "<matplotlib.legend.Legend at 0x7fbc47f903a0>"
      ]
     },
     "execution_count": 9,
     "metadata": {},
     "output_type": "execute_result"
    },
    {
     "data": {
      "image/png": "[encoded data removed]",
      "text/plain": [
       "<Figure size 720x576 with 1 Axes>"
      ]
     },
     "metadata": {
      "needs_background": "light"
     },
     "output_type": "display_data"
    }
   ],
   "source": [
    "feature_name = 'MedInc'\n",
    "#feature_name = 'Population'\n",
    "fig, ax = plt.subplots(1, 1, figsize = (10, 8))\n",
    "data_ref[feature_name].plot.density(ax = ax, alpha = 0.5, label = 'reference')\n",
    "plt.axvline(data_ref[feature_name].mean())\n",
    "data_new[feature_name].plot.density(ax = ax, alpha = 0.5, label = 'New')\n",
    "plt.axvline(data_new[feature_name].mean())\n",
    "#ax.set_xlim((0, 6000))\n",
    "plt.legend()"
   ]
  },
  {
   "cell_type": "code",
   "execution_count": 15,
   "metadata": {},
   "outputs": [
    {
     "data": {
      "text/plain": [
       "MetricResults(metric_name='ttest', type='drift', model_id='1', model_version='2', data_id=None, feature='MedInc', value=2.1877815394701083e-35, status=True, threshold=0.05, period_start=Timestamp('2020-09-01 00:00:00'), period_end=Timestamp('2021-03-05 23:30:00'), eval_timestamp=datetime.datetime(2023, 1, 23, 21, 58, 8, 393505), conf_int=None)"
      ]
     },
     "execution_count": 15,
     "metadata": {},
     "output_type": "execute_result"
    }
   ],
   "source": [
    "\n",
    "driftTest = DriftTestMetric(name = 'ttest', data = data_new, feature_name = feature_name)\n",
    "driftTest.evaluate(alpha = 0.05, reference = data_ref[feature_name])"
   ]
  },
  {
   "cell_type": "code",
   "execution_count": 16,
   "metadata": {},
   "outputs": [
    {
     "data": {
      "text/plain": [
       "MetricResults(metric_name='CvM', type='drift', model_id='1', model_version='2', data_id=None, feature='MedInc', value=5.027084304387586e-10, status=True, threshold=0.05, period_start=Timestamp('2020-09-01 00:00:00'), period_end=Timestamp('2021-03-05 23:30:00'), eval_timestamp=datetime.datetime(2023, 1, 23, 21, 58, 8, 393505), conf_int=None)"
      ]
     },
     "execution_count": 16,
     "metadata": {},
     "output_type": "execute_result"
    }
   ],
   "source": [
    "driftTest = DriftTestMetric(name = 'CvM', data = data_new, feature_name = feature_name)\n",
    "driftTest.evaluate(alpha = 0.05, reference = data_ref[feature_name])"
   ]
  },
  {
   "cell_type": "markdown",
   "metadata": {},
   "source": [
    "### Non test drift metrics"
   ]
  },
  {
   "cell_type": "code",
   "execution_count": 38,
   "metadata": {},
   "outputs": [
    {
     "data": {
      "text/plain": [
       "MetricResults(metric_name='kl', type='drift', model_id='1', model_version='2', data_id=None, feature='MedInc', value=0.0329059890805394, status=True, threshold=0.2, period_start=Timestamp('2020-09-01 00:00:00'), period_end=Timestamp('2021-03-05 23:30:00'), eval_timestamp=datetime.datetime(2023, 1, 23, 22, 7, 5, 151607), conf_int=None)"
      ]
     },
     "execution_count": 38,
     "metadata": {},
     "output_type": "execute_result"
    }
   ],
   "source": [
    "drift = DriftMetric(name = 'kl', data = data_new, feature_name = feature_name)\n",
    "drift.evaluate(reference = data_ref[feature_name], threshold = 0.2, upper_bound = True)"
   ]
  },
  {
   "cell_type": "markdown",
   "metadata": {},
   "source": [
    "## Custom metric class    "
   ]
  },
  {
   "cell_type": "code",
   "execution_count": 39,
   "metadata": {},
   "outputs": [],
   "source": [
    "from pulsar_metrics.metrics.base import CustomMetric"
   ]
  },
  {
   "cell_type": "code",
   "execution_count": 40,
   "metadata": {},
   "outputs": [],
   "source": [
    "@CustomMetric\n",
    "def test_custom(a, b, **kwargs):\n",
    "    return np.max(a - b)"
   ]
  },
  {
   "cell_type": "code",
   "execution_count": 41,
   "metadata": {},
   "outputs": [],
   "source": [
    "cus = test_custom(name = 'test', data = data_ref)"
   ]
  },
  {
   "cell_type": "code",
   "execution_count": 47,
   "metadata": {},
   "outputs": [
    {
     "data": {
      "text/plain": [
       "MetricResults(metric_name='test', type='custom', model_id='1', model_version='2', data_id=None, feature=None, value=-1.0, status=True, threshold=1.0, period_start=Timestamp('2020-05-01 00:00:00'), period_end=Timestamp('2020-08-31 23:30:00'), eval_timestamp=datetime.datetime(2023, 1, 23, 22, 7, 5, 151607), conf_int=None)"
      ]
     },
     "execution_count": 47,
     "metadata": {},
     "output_type": "execute_result"
    }
   ],
   "source": [
    "cus.evaluate(a = 1, b = 2, threshold = 1)"
   ]
  },
  {
   "cell_type": "markdown",
   "metadata": {},
   "source": [
    "## Performance metrics"
   ]
  },
  {
   "cell_type": "markdown",
   "metadata": {},
   "source": [
    "### Implemented metrics"
   ]
  },
  {
   "cell_type": "code",
   "execution_count": 20,
   "metadata": {},
   "outputs": [],
   "source": [
    "from pulsar_metrics.metrics.performance import PerformanceMetricsFuncs"
   ]
  },
  {
   "cell_type": "code",
   "execution_count": 21,
   "metadata": {},
   "outputs": [
    {
     "data": {
      "text/plain": [
       "['accuracy',\n",
       " 'precision',\n",
       " 'recall',\n",
       " 'f1',\n",
       " 'log_loss',\n",
       " 'auc',\n",
       " 'aucpr',\n",
       " 'brier',\n",
       " 'mse',\n",
       " 'mae',\n",
       " 'mape',\n",
       " 'r2']"
      ]
     },
     "execution_count": 21,
     "metadata": {},
     "output_type": "execute_result"
    }
   ],
   "source": [
    "PerformanceMetricsFuncs._member_names_"
   ]
  },
  {
   "cell_type": "markdown",
   "metadata": {},
   "source": [
    "### Exemple performance metric"
   ]
  },
  {
   "cell_type": "code",
   "execution_count": 49,
   "metadata": {},
   "outputs": [],
   "source": [
    "from pulsar_metrics.metrics.performance import PerformanceMetric"
   ]
  },
  {
   "cell_type": "code",
   "execution_count": 50,
   "metadata": {},
   "outputs": [],
   "source": [
    "precision = PerformanceMetric(name = 'precision', data = data_ref, y_name = 'clf_target')"
   ]
  },
  {
   "cell_type": "code",
   "execution_count": 53,
   "metadata": {},
   "outputs": [
    {
     "data": {
      "text/plain": [
       "MetricResults(metric_name='precision', type='performance', model_id='1', model_version='2', data_id=None, feature='prediction', value=0.421070460704607, status=True, threshold=[0.45, 0.5], period_start=Timestamp('2020-05-01 00:00:00'), period_end=Timestamp('2020-08-31 23:30:00'), eval_timestamp=datetime.datetime(2023, 1, 23, 22, 7, 5, 151607), conf_int=[0.4090997628726287, 0.4339388550135501])"
      ]
     },
     "execution_count": 53,
     "metadata": {},
     "output_type": "execute_result"
    }
   ],
   "source": [
    "precision.evaluate(bootstrap=True, average = 'micro', threshold = [0.45, 0.5])"
   ]
  },
  {
   "cell_type": "markdown",
   "metadata": {},
   "source": [
    "## Running an analyzer with multiple metrics"
   ]
  },
  {
   "cell_type": "code",
   "execution_count": 25,
   "metadata": {},
   "outputs": [],
   "source": [
    "from pulsar_metrics.analyzers.base import Analyzer"
   ]
  },
  {
   "cell_type": "code",
   "execution_count": 26,
   "metadata": {},
   "outputs": [],
   "source": [
    "analysis = Analyzer(name = 'First Analyzer', description='My first Analyzer', data = data_new)"
   ]
  },
  {
   "cell_type": "code",
   "execution_count": 27,
   "metadata": {},
   "outputs": [
    {
     "name": "stdout",
     "output_type": "stream",
     "text": [
      "Drift metric 'wasserstein' for feature 'Population' added to the analyzer list\n",
      "Drift metric 'wasserstein' for feature 'MedInc' added to the analyzer list\n",
      "Drift metric 'ttest' for feature 'Population' added to the analyzer list\n",
      "Drift metric 'ttest' for feature 'MedInc' added to the analyzer list\n",
      "Drift metric 'ks_2samp' for feature 'Population' added to the analyzer list\n",
      "Drift metric 'ks_2samp' for feature 'MedInc' added to the analyzer list\n",
      "'clf_target'\n",
      "The dataset contains no ground truth for performance assessment. Metric 'accuracy' was NOT added to the analyzer list\n"
     ]
    }
   ],
   "source": [
    "analysis.add_drift_metrics(metrics_list=['wasserstein', 'ttest', 'ks_2samp'], features_list=['Population', 'MedInc']);\n",
    "analysis.add_performance_metrics(metrics_list=['accuracy'], y_name = 'clf_target');"
   ]
  },
  {
   "cell_type": "code",
   "execution_count": 28,
   "metadata": {},
   "outputs": [],
   "source": [
    "analysis.run(data_ref = data_ref, options = {'ttest': {'alpha': 0.01, 'equal_var': False}})"
   ]
  },
  {
   "cell_type": "code",
   "execution_count": 29,
   "metadata": {},
   "outputs": [
    {
     "data": {
      "text/html": [
       "<div>\n",
       "<style scoped>\n",
       "    .dataframe tbody tr th:only-of-type {\n",
       "        vertical-align: middle;\n",
       "    }\n",
       "\n",
       "    .dataframe tbody tr th {\n",
       "        vertical-align: top;\n",
       "    }\n",
       "\n",
       "    .dataframe thead th {\n",
       "        text-align: right;\n",
       "    }\n",
       "</style>\n",
       "<table border=\"1\" class=\"dataframe\">\n",
       "  <thead>\n",
       "    <tr style=\"text-align: right;\">\n",
       "      <th></th>\n",
       "      <th>metric_name</th>\n",
       "      <th>type</th>\n",
       "      <th>model_id</th>\n",
       "      <th>model_version</th>\n",
       "      <th>data_id</th>\n",
       "      <th>feature</th>\n",
       "      <th>value</th>\n",
       "      <th>status</th>\n",
       "      <th>threshold</th>\n",
       "      <th>period_start</th>\n",
       "      <th>period_end</th>\n",
       "      <th>eval_timestamp</th>\n",
       "      <th>conf_int</th>\n",
       "    </tr>\n",
       "  </thead>\n",
       "  <tbody>\n",
       "    <tr>\n",
       "      <th>0</th>\n",
       "      <td>wasserstein</td>\n",
       "      <td>drift</td>\n",
       "      <td>1</td>\n",
       "      <td>2</td>\n",
       "      <td>None</td>\n",
       "      <td>Population</td>\n",
       "      <td>5.258844e+01</td>\n",
       "      <td>None</td>\n",
       "      <td>NaN</td>\n",
       "      <td>2021-06-01</td>\n",
       "      <td>2022-05-09 23:00:00</td>\n",
       "      <td>2022-09-26 10:28:27.846122</td>\n",
       "      <td>None</td>\n",
       "    </tr>\n",
       "    <tr>\n",
       "      <th>1</th>\n",
       "      <td>wasserstein</td>\n",
       "      <td>drift</td>\n",
       "      <td>1</td>\n",
       "      <td>2</td>\n",
       "      <td>None</td>\n",
       "      <td>MedInc</td>\n",
       "      <td>3.047303e-01</td>\n",
       "      <td>None</td>\n",
       "      <td>NaN</td>\n",
       "      <td>2021-06-01</td>\n",
       "      <td>2022-05-09 23:00:00</td>\n",
       "      <td>2022-09-26 10:28:27.846122</td>\n",
       "      <td>None</td>\n",
       "    </tr>\n",
       "    <tr>\n",
       "      <th>2</th>\n",
       "      <td>ttest</td>\n",
       "      <td>drift</td>\n",
       "      <td>1</td>\n",
       "      <td>2</td>\n",
       "      <td>None</td>\n",
       "      <td>Population</td>\n",
       "      <td>1.284529e-02</td>\n",
       "      <td>False</td>\n",
       "      <td>0.01</td>\n",
       "      <td>2021-06-01</td>\n",
       "      <td>2022-05-09 23:00:00</td>\n",
       "      <td>2022-09-26 10:28:27.846122</td>\n",
       "      <td>None</td>\n",
       "    </tr>\n",
       "    <tr>\n",
       "      <th>3</th>\n",
       "      <td>ttest</td>\n",
       "      <td>drift</td>\n",
       "      <td>1</td>\n",
       "      <td>2</td>\n",
       "      <td>None</td>\n",
       "      <td>MedInc</td>\n",
       "      <td>4.860186e-21</td>\n",
       "      <td>True</td>\n",
       "      <td>0.01</td>\n",
       "      <td>2021-06-01</td>\n",
       "      <td>2022-05-09 23:00:00</td>\n",
       "      <td>2022-09-26 10:28:27.846122</td>\n",
       "      <td>None</td>\n",
       "    </tr>\n",
       "    <tr>\n",
       "      <th>4</th>\n",
       "      <td>ks_2samp</td>\n",
       "      <td>drift</td>\n",
       "      <td>1</td>\n",
       "      <td>2</td>\n",
       "      <td>None</td>\n",
       "      <td>Population</td>\n",
       "      <td>9.347256e-02</td>\n",
       "      <td>False</td>\n",
       "      <td>0.05</td>\n",
       "      <td>2021-06-01</td>\n",
       "      <td>2022-05-09 23:00:00</td>\n",
       "      <td>2022-09-26 10:28:27.846122</td>\n",
       "      <td>None</td>\n",
       "    </tr>\n",
       "    <tr>\n",
       "      <th>5</th>\n",
       "      <td>ks_2samp</td>\n",
       "      <td>drift</td>\n",
       "      <td>1</td>\n",
       "      <td>2</td>\n",
       "      <td>None</td>\n",
       "      <td>MedInc</td>\n",
       "      <td>2.997602e-14</td>\n",
       "      <td>True</td>\n",
       "      <td>0.05</td>\n",
       "      <td>2021-06-01</td>\n",
       "      <td>2022-05-09 23:00:00</td>\n",
       "      <td>2022-09-26 10:28:27.846122</td>\n",
       "      <td>None</td>\n",
       "    </tr>\n",
       "  </tbody>\n",
       "</table>\n",
       "</div>"
      ],
      "text/plain": [
       "   metric_name   type model_id model_version data_id     feature  \\\n",
       "0  wasserstein  drift        1             2    None  Population   \n",
       "1  wasserstein  drift        1             2    None      MedInc   \n",
       "2        ttest  drift        1             2    None  Population   \n",
       "3        ttest  drift        1             2    None      MedInc   \n",
       "4     ks_2samp  drift        1             2    None  Population   \n",
       "5     ks_2samp  drift        1             2    None      MedInc   \n",
       "\n",
       "          value status  threshold period_start          period_end  \\\n",
       "0  5.258844e+01   None        NaN   2021-06-01 2022-05-09 23:00:00   \n",
       "1  3.047303e-01   None        NaN   2021-06-01 2022-05-09 23:00:00   \n",
       "2  1.284529e-02  False       0.01   2021-06-01 2022-05-09 23:00:00   \n",
       "3  4.860186e-21   True       0.01   2021-06-01 2022-05-09 23:00:00   \n",
       "4  9.347256e-02  False       0.05   2021-06-01 2022-05-09 23:00:00   \n",
       "5  2.997602e-14   True       0.05   2021-06-01 2022-05-09 23:00:00   \n",
       "\n",
       "              eval_timestamp conf_int  \n",
       "0 2022-09-26 10:28:27.846122     None  \n",
       "1 2022-09-26 10:28:27.846122     None  \n",
       "2 2022-09-26 10:28:27.846122     None  \n",
       "3 2022-09-26 10:28:27.846122     None  \n",
       "4 2022-09-26 10:28:27.846122     None  \n",
       "5 2022-09-26 10:28:27.846122     None  "
      ]
     },
     "execution_count": 29,
     "metadata": {},
     "output_type": "execute_result"
    }
   ],
   "source": [
    "analysis.results_to_pandas()"
   ]
  },
  {
   "cell_type": "code",
   "execution_count": null,
   "metadata": {},
   "outputs": [],
   "source": []
  }
 ],
 "metadata": {
  "interpreter": {
   "hash": "1c3d32cd99eeeff60d6e120bed6afb1c525328e0a32a6d151d066953e31db362"
  },
  "kernelspec": {
   "display_name": "Python 3.9.12 ('rs-metrics2')",
   "language": "python",
   "name": "python3"
  },
  "language_info": {
   "codemirror_mode": {
    "name": "ipython",
    "version": 3
   },
   "file_extension": ".py",
   "mimetype": "text/x-python",
   "name": "python",
   "nbconvert_exporter": "python",
   "pygments_lexer": "ipython3",
   "version": "3.9.12"
  },
  "orig_nbformat": 4
 },
 "nbformat": 4,
 "nbformat_minor": 2
}
