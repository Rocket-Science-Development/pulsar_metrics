{
 "cells": [
  {
   "cell_type": "code",
   "execution_count": 1,
   "metadata": {},
   "outputs": [],
   "source": [
    "import pandas as pd\n",
    "from datetime import datetime\n",
    "import matplotlib.pyplot as plt\n",
    "import numpy as np"
   ]
  },
  {
   "cell_type": "code",
   "execution_count": 2,
   "metadata": {},
   "outputs": [],
   "source": [
    "%load_ext autoreload\n",
    "%autoreload 2"
   ]
  },
  {
   "cell_type": "markdown",
   "metadata": {},
   "source": [
    "## Metrics results class"
   ]
  },
  {
   "cell_type": "markdown",
   "metadata": {},
   "source": [
    "### Metrics types"
   ]
  },
  {
   "cell_type": "code",
   "execution_count": 3,
   "metadata": {},
   "outputs": [],
   "source": [
    "from pulsar_metrics.metrics.enums import MetricsType"
   ]
  },
  {
   "cell_type": "code",
   "execution_count": 4,
   "metadata": {},
   "outputs": [
    {
     "data": {
      "text/plain": [
       "['performance', 'drift', 'custom', 'statistics']"
      ]
     },
     "execution_count": 4,
     "metadata": {},
     "output_type": "execute_result"
    }
   ],
   "source": [
    "MetricsType._member_names_"
   ]
  },
  {
   "cell_type": "markdown",
   "metadata": {},
   "source": [
    "### Metric data structure"
   ]
  },
  {
   "cell_type": "code",
   "execution_count": 5,
   "metadata": {},
   "outputs": [],
   "source": [
    "from pulsar_metrics.metrics.base import MetricResults"
   ]
  },
  {
   "cell_type": "code",
   "execution_count": 6,
   "metadata": {},
   "outputs": [
    {
     "data": {
      "text/plain": [
       "MetricResults(metric_type='custom', metric_name='accuracy', feature_name=None, metric_value=None, drift_status=None, threshold=None, conf_int=None)"
      ]
     },
     "execution_count": 6,
     "metadata": {},
     "output_type": "execute_result"
    }
   ],
   "source": [
    "results = MetricResults(\n",
    "    metric_type = 'custom', metric_name = 'accuracy')\n",
    "results"
   ]
  },
  {
   "cell_type": "markdown",
   "metadata": {},
   "source": [
    "## Loading datasets"
   ]
  },
  {
   "cell_type": "code",
   "execution_count": 7,
   "metadata": {},
   "outputs": [],
   "source": [
    "data_ref = pd.read_csv('data/california_ref.csv')\n",
    "data_new = pd.read_csv('data/california_new.csv')"
   ]
  },
  {
   "cell_type": "code",
   "execution_count": 8,
   "metadata": {},
   "outputs": [
    {
     "data": {
      "text/html": [
       "<div>\n",
       "<style scoped>\n",
       "    .dataframe tbody tr th:only-of-type {\n",
       "        vertical-align: middle;\n",
       "    }\n",
       "\n",
       "    .dataframe tbody tr th {\n",
       "        vertical-align: top;\n",
       "    }\n",
       "\n",
       "    .dataframe thead th {\n",
       "        text-align: right;\n",
       "    }\n",
       "</style>\n",
       "<table border=\"1\" class=\"dataframe\">\n",
       "  <thead>\n",
       "    <tr style=\"text-align: right;\">\n",
       "      <th></th>\n",
       "      <th>MedInc</th>\n",
       "      <th>HouseAge</th>\n",
       "      <th>AveRooms</th>\n",
       "      <th>AveBedrms</th>\n",
       "      <th>Population</th>\n",
       "      <th>AveOccup</th>\n",
       "      <th>Latitude</th>\n",
       "      <th>Longitude</th>\n",
       "      <th>pred_timestamp</th>\n",
       "      <th>clf_target</th>\n",
       "      <th>y_pred_proba</th>\n",
       "      <th>y_pred</th>\n",
       "      <th>identifier</th>\n",
       "      <th>model_id</th>\n",
       "      <th>model_version</th>\n",
       "    </tr>\n",
       "  </thead>\n",
       "  <tbody>\n",
       "    <tr>\n",
       "      <th>0</th>\n",
       "      <td>4.1083</td>\n",
       "      <td>6.0</td>\n",
       "      <td>3.933941</td>\n",
       "      <td>1.152620</td>\n",
       "      <td>1200.0</td>\n",
       "      <td>2.733485</td>\n",
       "      <td>34.14</td>\n",
       "      <td>-118.26</td>\n",
       "      <td>2020-05-01 00:00:00</td>\n",
       "      <td>1</td>\n",
       "      <td>0.79</td>\n",
       "      <td>0</td>\n",
       "      <td>0</td>\n",
       "      <td>1</td>\n",
       "      <td>2</td>\n",
       "    </tr>\n",
       "    <tr>\n",
       "      <th>1</th>\n",
       "      <td>3.0080</td>\n",
       "      <td>7.0</td>\n",
       "      <td>3.854620</td>\n",
       "      <td>1.054348</td>\n",
       "      <td>2287.0</td>\n",
       "      <td>3.107337</td>\n",
       "      <td>34.15</td>\n",
       "      <td>-118.27</td>\n",
       "      <td>2020-05-01 00:30:00</td>\n",
       "      <td>1</td>\n",
       "      <td>0.88</td>\n",
       "      <td>1</td>\n",
       "      <td>1</td>\n",
       "      <td>1</td>\n",
       "      <td>2</td>\n",
       "    </tr>\n",
       "    <tr>\n",
       "      <th>2</th>\n",
       "      <td>2.6673</td>\n",
       "      <td>25.0</td>\n",
       "      <td>3.192040</td>\n",
       "      <td>1.105473</td>\n",
       "      <td>2843.0</td>\n",
       "      <td>2.828856</td>\n",
       "      <td>34.13</td>\n",
       "      <td>-118.26</td>\n",
       "      <td>2020-05-01 01:00:00</td>\n",
       "      <td>1</td>\n",
       "      <td>0.98</td>\n",
       "      <td>1</td>\n",
       "      <td>2</td>\n",
       "      <td>1</td>\n",
       "      <td>2</td>\n",
       "    </tr>\n",
       "    <tr>\n",
       "      <th>3</th>\n",
       "      <td>2.5000</td>\n",
       "      <td>37.0</td>\n",
       "      <td>3.066519</td>\n",
       "      <td>1.042129</td>\n",
       "      <td>1185.0</td>\n",
       "      <td>2.627494</td>\n",
       "      <td>34.13</td>\n",
       "      <td>-118.26</td>\n",
       "      <td>2020-05-01 01:30:00</td>\n",
       "      <td>1</td>\n",
       "      <td>0.95</td>\n",
       "      <td>1</td>\n",
       "      <td>3</td>\n",
       "      <td>1</td>\n",
       "      <td>2</td>\n",
       "    </tr>\n",
       "    <tr>\n",
       "      <th>4</th>\n",
       "      <td>1.2188</td>\n",
       "      <td>37.0</td>\n",
       "      <td>2.882353</td>\n",
       "      <td>1.088235</td>\n",
       "      <td>194.0</td>\n",
       "      <td>2.852941</td>\n",
       "      <td>34.13</td>\n",
       "      <td>-118.26</td>\n",
       "      <td>2020-05-01 02:00:00</td>\n",
       "      <td>1</td>\n",
       "      <td>0.68</td>\n",
       "      <td>0</td>\n",
       "      <td>4</td>\n",
       "      <td>1</td>\n",
       "      <td>2</td>\n",
       "    </tr>\n",
       "  </tbody>\n",
       "</table>\n",
       "</div>"
      ],
      "text/plain": [
       "   MedInc  HouseAge  AveRooms  AveBedrms  Population  AveOccup  Latitude  \\\n",
       "0  4.1083       6.0  3.933941   1.152620      1200.0  2.733485     34.14   \n",
       "1  3.0080       7.0  3.854620   1.054348      2287.0  3.107337     34.15   \n",
       "2  2.6673      25.0  3.192040   1.105473      2843.0  2.828856     34.13   \n",
       "3  2.5000      37.0  3.066519   1.042129      1185.0  2.627494     34.13   \n",
       "4  1.2188      37.0  2.882353   1.088235       194.0  2.852941     34.13   \n",
       "\n",
       "   Longitude       pred_timestamp  clf_target  y_pred_proba  y_pred  \\\n",
       "0    -118.26  2020-05-01 00:00:00           1          0.79       0   \n",
       "1    -118.27  2020-05-01 00:30:00           1          0.88       1   \n",
       "2    -118.26  2020-05-01 01:00:00           1          0.98       1   \n",
       "3    -118.26  2020-05-01 01:30:00           1          0.95       1   \n",
       "4    -118.26  2020-05-01 02:00:00           1          0.68       0   \n",
       "\n",
       "   identifier  model_id  model_version  \n",
       "0           0         1              2  \n",
       "1           1         1              2  \n",
       "2           2         1              2  \n",
       "3           3         1              2  \n",
       "4           4         1              2  "
      ]
     },
     "execution_count": 8,
     "metadata": {},
     "output_type": "execute_result"
    }
   ],
   "source": [
    "data_ref.head()"
   ]
  },
  {
   "cell_type": "markdown",
   "metadata": {},
   "source": [
    "## Summary statistics"
   ]
  },
  {
   "cell_type": "code",
   "execution_count": 9,
   "metadata": {},
   "outputs": [],
   "source": [
    "from pulsar_metrics.metrics.statistics import FeatureSummary"
   ]
  },
  {
   "cell_type": "code",
   "execution_count": 10,
   "metadata": {},
   "outputs": [],
   "source": [
    "statistics = FeatureSummary(feature_name='HouseAge')"
   ]
  },
  {
   "cell_type": "code",
   "execution_count": 11,
   "metadata": {},
   "outputs": [],
   "source": [
    "statistics.evaluate(current = data_new, reference=data_ref)"
   ]
  },
  {
   "cell_type": "code",
   "execution_count": 12,
   "metadata": {},
   "outputs": [
    {
     "data": {
      "text/html": [
       "<div>\n",
       "<style scoped>\n",
       "    .dataframe tbody tr th:only-of-type {\n",
       "        vertical-align: middle;\n",
       "    }\n",
       "\n",
       "    .dataframe tbody tr th {\n",
       "        vertical-align: top;\n",
       "    }\n",
       "\n",
       "    .dataframe thead th {\n",
       "        text-align: right;\n",
       "    }\n",
       "</style>\n",
       "<table border=\"1\" class=\"dataframe\">\n",
       "  <thead>\n",
       "    <tr style=\"text-align: right;\">\n",
       "      <th></th>\n",
       "      <th>metric_type</th>\n",
       "      <th>metric_name</th>\n",
       "      <th>feature_name</th>\n",
       "      <th>metric_value</th>\n",
       "      <th>drift_status</th>\n",
       "      <th>threshold</th>\n",
       "      <th>conf_int</th>\n",
       "    </tr>\n",
       "  </thead>\n",
       "  <tbody>\n",
       "    <tr>\n",
       "      <th>0</th>\n",
       "      <td>statistics</td>\n",
       "      <td>mean</td>\n",
       "      <td>HouseAge</td>\n",
       "      <td>26.246864</td>\n",
       "      <td>None</td>\n",
       "      <td>29.308774</td>\n",
       "      <td>None</td>\n",
       "    </tr>\n",
       "    <tr>\n",
       "      <th>1</th>\n",
       "      <td>statistics</td>\n",
       "      <td>median</td>\n",
       "      <td>HouseAge</td>\n",
       "      <td>25.000000</td>\n",
       "      <td>None</td>\n",
       "      <td>31.000000</td>\n",
       "      <td>None</td>\n",
       "    </tr>\n",
       "    <tr>\n",
       "      <th>2</th>\n",
       "      <td>statistics</td>\n",
       "      <td>std</td>\n",
       "      <td>HouseAge</td>\n",
       "      <td>12.910057</td>\n",
       "      <td>None</td>\n",
       "      <td>11.119151</td>\n",
       "      <td>None</td>\n",
       "    </tr>\n",
       "    <tr>\n",
       "      <th>3</th>\n",
       "      <td>statistics</td>\n",
       "      <td>skewness</td>\n",
       "      <td>HouseAge</td>\n",
       "      <td>0.357473</td>\n",
       "      <td>None</td>\n",
       "      <td>-0.212044</td>\n",
       "      <td>None</td>\n",
       "    </tr>\n",
       "    <tr>\n",
       "      <th>4</th>\n",
       "      <td>statistics</td>\n",
       "      <td>kurtosis</td>\n",
       "      <td>HouseAge</td>\n",
       "      <td>-0.695142</td>\n",
       "      <td>None</td>\n",
       "      <td>-0.481793</td>\n",
       "      <td>None</td>\n",
       "    </tr>\n",
       "    <tr>\n",
       "      <th>5</th>\n",
       "      <td>statistics</td>\n",
       "      <td>P25.0</td>\n",
       "      <td>HouseAge</td>\n",
       "      <td>16.000000</td>\n",
       "      <td>None</td>\n",
       "      <td>21.000000</td>\n",
       "      <td>None</td>\n",
       "    </tr>\n",
       "    <tr>\n",
       "      <th>6</th>\n",
       "      <td>statistics</td>\n",
       "      <td>P95.0</td>\n",
       "      <td>HouseAge</td>\n",
       "      <td>52.000000</td>\n",
       "      <td>None</td>\n",
       "      <td>47.000000</td>\n",
       "      <td>None</td>\n",
       "    </tr>\n",
       "    <tr>\n",
       "      <th>7</th>\n",
       "      <td>statistics</td>\n",
       "      <td>count</td>\n",
       "      <td>HouseAge</td>\n",
       "      <td>8928.000000</td>\n",
       "      <td>None</td>\n",
       "      <td>NaN</td>\n",
       "      <td>None</td>\n",
       "    </tr>\n",
       "  </tbody>\n",
       "</table>\n",
       "</div>"
      ],
      "text/plain": [
       "  metric_type metric_name feature_name  metric_value drift_status  threshold  \\\n",
       "0  statistics        mean     HouseAge     26.246864         None  29.308774   \n",
       "1  statistics      median     HouseAge     25.000000         None  31.000000   \n",
       "2  statistics         std     HouseAge     12.910057         None  11.119151   \n",
       "3  statistics    skewness     HouseAge      0.357473         None  -0.212044   \n",
       "4  statistics    kurtosis     HouseAge     -0.695142         None  -0.481793   \n",
       "5  statistics       P25.0     HouseAge     16.000000         None  21.000000   \n",
       "6  statistics       P95.0     HouseAge     52.000000         None  47.000000   \n",
       "7  statistics       count     HouseAge   8928.000000         None        NaN   \n",
       "\n",
       "  conf_int  \n",
       "0     None  \n",
       "1     None  \n",
       "2     None  \n",
       "3     None  \n",
       "4     None  \n",
       "5     None  \n",
       "6     None  \n",
       "7     None  "
      ]
     },
     "execution_count": 12,
     "metadata": {},
     "output_type": "execute_result"
    }
   ],
   "source": [
    "statistics.results_to_pandas()"
   ]
  },
  {
   "cell_type": "markdown",
   "metadata": {},
   "source": [
    "## Drift Class"
   ]
  },
  {
   "cell_type": "code",
   "execution_count": 13,
   "metadata": {},
   "outputs": [],
   "source": [
    "from pulsar_metrics.metrics.drift import DriftTestMetric, DriftMetric\n",
    "from pulsar_metrics.metrics.enums import DriftMetricsFuncs, DriftTestMetricsFuncs"
   ]
  },
  {
   "cell_type": "code",
   "execution_count": 14,
   "metadata": {},
   "outputs": [
    {
     "data": {
      "text/plain": [
       "['kl', 'psi', 'wasserstein', 'mmd']"
      ]
     },
     "execution_count": 14,
     "metadata": {},
     "output_type": "execute_result"
    }
   ],
   "source": [
    "DriftMetricsFuncs._member_names_"
   ]
  },
  {
   "cell_type": "code",
   "execution_count": 15,
   "metadata": {},
   "outputs": [
    {
     "data": {
      "text/plain": [
       "['ttest', 'manwu', 'levene', 'bftest', 'ks_2samp', 'CvM', 'chi2']"
      ]
     },
     "execution_count": 15,
     "metadata": {},
     "output_type": "execute_result"
    }
   ],
   "source": [
    "DriftTestMetricsFuncs._member_names_"
   ]
  },
  {
   "cell_type": "markdown",
   "metadata": {},
   "source": [
    "### Test Drift metrics"
   ]
  },
  {
   "cell_type": "code",
   "execution_count": 16,
   "metadata": {},
   "outputs": [
    {
     "data": {
      "text/plain": [
       "<matplotlib.legend.Legend at 0x2ac9af730>"
      ]
     },
     "execution_count": 16,
     "metadata": {},
     "output_type": "execute_result"
    },
    {
     "data": {
      "image/png": "[encoded data removed]",
      "text/plain": [
       "<Figure size 1000x800 with 1 Axes>"
      ]
     },
     "metadata": {},
     "output_type": "display_data"
    }
   ],
   "source": [
    "feature_name = 'MedInc'\n",
    "#feature_name = 'Population'\n",
    "fig, ax = plt.subplots(1, 1, figsize = (10, 8))\n",
    "data_ref[feature_name].plot.density(ax = ax, alpha = 0.5, label = 'reference')\n",
    "plt.axvline(data_ref[feature_name].mean())\n",
    "data_new[feature_name].plot.density(ax = ax, alpha = 0.5, label = 'New')\n",
    "plt.axvline(data_new[feature_name].mean())\n",
    "#ax.set_xlim((0, 6000))\n",
    "plt.legend()"
   ]
  },
  {
   "cell_type": "code",
   "execution_count": 17,
   "metadata": {},
   "outputs": [
    {
     "data": {
      "text/plain": [
       "MetricResults(metric_type='drift', metric_name='ttest', feature_name='MedInc', metric_value=2.1877815394701083e-35, drift_status=True, threshold=0.05, conf_int=None)"
      ]
     },
     "execution_count": 17,
     "metadata": {},
     "output_type": "execute_result"
    }
   ],
   "source": [
    "\n",
    "driftTest = DriftTestMetric(metric_name = 'ttest', feature_name = feature_name)\n",
    "driftTest.evaluate(alpha = 0.05, current = data_new, reference = data_ref)"
   ]
  },
  {
   "cell_type": "code",
   "execution_count": 18,
   "metadata": {},
   "outputs": [
    {
     "data": {
      "text/plain": [
       "MetricResults(metric_type='drift', metric_name='CvM', feature_name='MedInc', metric_value=5.027078753272463e-10, drift_status=True, threshold=0.05, conf_int=None)"
      ]
     },
     "execution_count": 18,
     "metadata": {},
     "output_type": "execute_result"
    }
   ],
   "source": [
    "driftTest = DriftTestMetric(metric_name = 'CvM', feature_name = feature_name)\n",
    "driftTest.evaluate(alpha = 0.05, current = data_new, reference = data_ref)"
   ]
  },
  {
   "cell_type": "markdown",
   "metadata": {},
   "source": [
    "### Non test drift metrics"
   ]
  },
  {
   "cell_type": "code",
   "execution_count": 19,
   "metadata": {},
   "outputs": [
    {
     "data": {
      "text/plain": [
       "MetricResults(metric_type='drift', metric_name='wasserstein', feature_name='MedInc', metric_value=0.3918793415071247, drift_status=False, threshold=0.2, conf_int=None)"
      ]
     },
     "execution_count": 19,
     "metadata": {},
     "output_type": "execute_result"
    }
   ],
   "source": [
    "drift = DriftMetric(metric_name = 'wasserstein', feature_name = feature_name)\n",
    "drift.evaluate(current = data_new, reference = data_ref, threshold = 0.2, upper_bound = True)"
   ]
  },
  {
   "cell_type": "code",
   "execution_count": 20,
   "metadata": {},
   "outputs": [
    {
     "data": {
      "text/plain": [
       "MetricResults(metric_type='drift', metric_name='mmd', feature_name='MedInc', metric_value=0.0075224855632681775, drift_status=True, threshold=0.2, conf_int=None)"
      ]
     },
     "execution_count": 20,
     "metadata": {},
     "output_type": "execute_result"
    }
   ],
   "source": [
    "drift = DriftMetric(metric_name = 'mmd', feature_name = feature_name)\n",
    "drift.evaluate(current = data_new, reference = data_ref, threshold = 0.2, upper_bound = True, kernel='rbf')"
   ]
  },
  {
   "cell_type": "markdown",
   "metadata": {},
   "source": [
    "## Custom metric class    "
   ]
  },
  {
   "cell_type": "code",
   "execution_count": 21,
   "metadata": {},
   "outputs": [],
   "source": [
    "from pulsar_metrics.metrics.drift import CustomDriftMetric"
   ]
  },
  {
   "cell_type": "code",
   "execution_count": 22,
   "metadata": {},
   "outputs": [],
   "source": [
    "@CustomDriftMetric\n",
    "def test_custom(current, reference, multiple=3, **kwargs):\n",
    "    return multiple*np.max(current - reference)"
   ]
  },
  {
   "cell_type": "code",
   "execution_count": 23,
   "metadata": {},
   "outputs": [],
   "source": [
    "cus = test_custom(metric_name = 'test', feature_name = feature_name)"
   ]
  },
  {
   "cell_type": "code",
   "execution_count": 24,
   "metadata": {},
   "outputs": [
    {
     "data": {
      "text/plain": [
       "MetricResults(metric_type='custom', metric_name='test', feature_name='MedInc', metric_value=5.93755, drift_status=False, threshold=1.0, conf_int=None)"
      ]
     },
     "execution_count": 24,
     "metadata": {},
     "output_type": "execute_result"
    }
   ],
   "source": [
    "cus.evaluate(current = data_new, reference = data_ref, threshold = 1, multiple=0.5)"
   ]
  },
  {
   "cell_type": "markdown",
   "metadata": {},
   "source": [
    "## Performance metrics"
   ]
  },
  {
   "cell_type": "markdown",
   "metadata": {},
   "source": [
    "### Implemented metrics"
   ]
  },
  {
   "cell_type": "code",
   "execution_count": 25,
   "metadata": {},
   "outputs": [],
   "source": [
    "from pulsar_metrics.metrics.enums import PerformanceMetricsFuncs"
   ]
  },
  {
   "cell_type": "code",
   "execution_count": 26,
   "metadata": {},
   "outputs": [
    {
     "data": {
      "text/plain": [
       "['accuracy',\n",
       " 'precision',\n",
       " 'recall',\n",
       " 'f1',\n",
       " 'log_loss',\n",
       " 'auc',\n",
       " 'aucpr',\n",
       " 'brier',\n",
       " 'mse',\n",
       " 'mae',\n",
       " 'mape',\n",
       " 'r2']"
      ]
     },
     "execution_count": 26,
     "metadata": {},
     "output_type": "execute_result"
    }
   ],
   "source": [
    "PerformanceMetricsFuncs._member_names_"
   ]
  },
  {
   "cell_type": "markdown",
   "metadata": {},
   "source": [
    "### Exemple performance metric"
   ]
  },
  {
   "cell_type": "code",
   "execution_count": 27,
   "metadata": {},
   "outputs": [],
   "source": [
    "from pulsar_metrics.metrics.performance import PerformanceMetric"
   ]
  },
  {
   "cell_type": "code",
   "execution_count": 28,
   "metadata": {},
   "outputs": [],
   "source": [
    "precision = PerformanceMetric(metric_name = 'precision', y_name = 'clf_target')"
   ]
  },
  {
   "cell_type": "code",
   "execution_count": 29,
   "metadata": {},
   "outputs": [
    {
     "data": {
      "text/plain": [
       "MetricResults(metric_type='performance', metric_name='precision', feature_name='prediction', metric_value=0.6114471326164874, drift_status=True, threshold=[0.45, 0.5], conf_int=[0.6016577060931899, 0.6193520385304659])"
      ]
     },
     "execution_count": 29,
     "metadata": {},
     "output_type": "execute_result"
    }
   ],
   "source": [
    "precision.evaluate(current = data_new, bootstrap=True, average = 'micro', threshold = [0.45, 0.5])"
   ]
  },
  {
   "cell_type": "markdown",
   "metadata": {},
   "source": [
    "## Running an analyzer with multiple metrics"
   ]
  },
  {
   "cell_type": "code",
   "execution_count": 30,
   "metadata": {},
   "outputs": [],
   "source": [
    "from pulsar_metrics.analyzers.base import Analyzer"
   ]
  },
  {
   "cell_type": "code",
   "execution_count": 31,
   "metadata": {},
   "outputs": [],
   "source": [
    "analysis = Analyzer(name = 'First Analyzer', description='My first Analyzer', model_id = 1, model_version=2)"
   ]
  },
  {
   "cell_type": "code",
   "execution_count": 32,
   "metadata": {},
   "outputs": [
    {
     "name": "stdout",
     "output_type": "stream",
     "text": [
      "Drift metric 'wasserstein' for feature 'AveBedrms' added to the analyzer list\n",
      "Drift metric 'wasserstein' for feature 'MedInc' added to the analyzer list\n",
      "Drift metric 'ttest' for feature 'AveBedrms' added to the analyzer list\n",
      "Drift metric 'ttest' for feature 'MedInc' added to the analyzer list\n",
      "Drift metric 'ks_2samp' for feature 'AveBedrms' added to the analyzer list\n",
      "Drift metric 'ks_2samp' for feature 'MedInc' added to the analyzer list\n",
      "Drift metric 'mmd' for feature 'AveBedrms' added to the analyzer list\n",
      "Drift metric 'mmd' for feature 'MedInc' added to the analyzer list\n"
     ]
    }
   ],
   "source": [
    "analysis.add_drift_metrics(metrics_list=['wasserstein', 'ttest', 'ks_2samp', 'mmd'], features_list=['AveBedrms', 'MedInc']);\n",
    "analysis.add_performance_metrics(metrics_list=['accuracy'], y_name = 'clf_target');"
   ]
  },
  {
   "cell_type": "code",
   "execution_count": 33,
   "metadata": {},
   "outputs": [
    {
     "name": "stderr",
     "output_type": "stream",
     "text": [
      "/Users/adelbenlagra/Tresorit/Documents/Mandats/RocketScience/MPM/pulsar_metrics/pulsar_metrics/metrics/statistics.py:73: RuntimeWarning: Precision loss occurred in moment calculation due to catastrophic cancellation. This occurs when the data are nearly identical. Results may be unreliable.\n",
      "  threshold = func(reference[self._feature_name])\n",
      "/Users/adelbenlagra/Tresorit/Documents/Mandats/RocketScience/MPM/pulsar_metrics/pulsar_metrics/metrics/statistics.py:80: RuntimeWarning: Precision loss occurred in moment calculation due to catastrophic cancellation. This occurs when the data are nearly identical. Results may be unreliable.\n",
      "  metric_value=func(current[self._feature_name]),\n",
      "100%|██████████| 9/9 [00:01<00:00,  4.51it/s]\n"
     ]
    }
   ],
   "source": [
    "analysis.run(reference = data_ref, current = data_new, options = {'ttest': {'alpha': 0.01, 'equal_var': False}, 'mmd': {'kernel': 'rbf'}})"
   ]
  },
  {
   "cell_type": "code",
   "execution_count": 34,
   "metadata": {},
   "outputs": [
    {
     "data": {
      "text/plain": [
       "{'name': 'First Analyzer',\n",
       " 'description': 'My first Analyzer',\n",
       " 'model_id': 1,\n",
       " 'model_version': 2,\n",
       " 'period_start': Timestamp('2020-09-01 00:00:00'),\n",
       " 'period_end': Timestamp('2021-03-05 23:30:00'),\n",
       " 'eval_timestamp': datetime.datetime(2023, 3, 12, 19, 26, 35, 281043),\n",
       " 'options': {'ttest': {'alpha': 0.01, 'equal_var': False},\n",
       "  'mmd': {'kernel': 'rbf'}}}"
      ]
     },
     "execution_count": 34,
     "metadata": {},
     "output_type": "execute_result"
    }
   ],
   "source": [
    "analysis._metadata"
   ]
  },
  {
   "cell_type": "code",
   "execution_count": 35,
   "metadata": {},
   "outputs": [
    {
     "data": {
      "text/html": [
       "<div>\n",
       "<style scoped>\n",
       "    .dataframe tbody tr th:only-of-type {\n",
       "        vertical-align: middle;\n",
       "    }\n",
       "\n",
       "    .dataframe tbody tr th {\n",
       "        vertical-align: top;\n",
       "    }\n",
       "\n",
       "    .dataframe thead th {\n",
       "        text-align: right;\n",
       "    }\n",
       "</style>\n",
       "<table border=\"1\" class=\"dataframe\">\n",
       "  <thead>\n",
       "    <tr style=\"text-align: right;\">\n",
       "      <th></th>\n",
       "      <th>metric_type</th>\n",
       "      <th>metric_name</th>\n",
       "      <th>feature_name</th>\n",
       "      <th>metric_value</th>\n",
       "      <th>drift_status</th>\n",
       "      <th>threshold</th>\n",
       "      <th>conf_int</th>\n",
       "      <th>model_id</th>\n",
       "      <th>model_version</th>\n",
       "      <th>period_start</th>\n",
       "      <th>period_end</th>\n",
       "      <th>eval_timestamp</th>\n",
       "      <th>options</th>\n",
       "    </tr>\n",
       "  </thead>\n",
       "  <tbody>\n",
       "    <tr>\n",
       "      <th>0</th>\n",
       "      <td>statistics</td>\n",
       "      <td>mean</td>\n",
       "      <td>MedInc</td>\n",
       "      <td>3.841661e+00</td>\n",
       "      <td>None</td>\n",
       "      <td>4.233536</td>\n",
       "      <td>None</td>\n",
       "      <td>1</td>\n",
       "      <td>2</td>\n",
       "      <td>2020-09-01</td>\n",
       "      <td>2021-03-05 23:30:00</td>\n",
       "      <td>2023-03-12 19:26:35.281043</td>\n",
       "      <td>NaN</td>\n",
       "    </tr>\n",
       "    <tr>\n",
       "      <th>1</th>\n",
       "      <td>statistics</td>\n",
       "      <td>median</td>\n",
       "      <td>MedInc</td>\n",
       "      <td>3.558400e+00</td>\n",
       "      <td>None</td>\n",
       "      <td>3.846350</td>\n",
       "      <td>None</td>\n",
       "      <td>1</td>\n",
       "      <td>2</td>\n",
       "      <td>2020-09-01</td>\n",
       "      <td>2021-03-05 23:30:00</td>\n",
       "      <td>2023-03-12 19:26:35.281043</td>\n",
       "      <td>NaN</td>\n",
       "    </tr>\n",
       "    <tr>\n",
       "      <th>2</th>\n",
       "      <td>statistics</td>\n",
       "      <td>std</td>\n",
       "      <td>MedInc</td>\n",
       "      <td>1.796196e+00</td>\n",
       "      <td>None</td>\n",
       "      <td>1.926329</td>\n",
       "      <td>None</td>\n",
       "      <td>1</td>\n",
       "      <td>2</td>\n",
       "      <td>2020-09-01</td>\n",
       "      <td>2021-03-05 23:30:00</td>\n",
       "      <td>2023-03-12 19:26:35.281043</td>\n",
       "      <td>NaN</td>\n",
       "    </tr>\n",
       "    <tr>\n",
       "      <th>3</th>\n",
       "      <td>statistics</td>\n",
       "      <td>skewness</td>\n",
       "      <td>MedInc</td>\n",
       "      <td>1.561581e+00</td>\n",
       "      <td>None</td>\n",
       "      <td>1.673273</td>\n",
       "      <td>None</td>\n",
       "      <td>1</td>\n",
       "      <td>2</td>\n",
       "      <td>2020-09-01</td>\n",
       "      <td>2021-03-05 23:30:00</td>\n",
       "      <td>2023-03-12 19:26:35.281043</td>\n",
       "      <td>NaN</td>\n",
       "    </tr>\n",
       "    <tr>\n",
       "      <th>4</th>\n",
       "      <td>statistics</td>\n",
       "      <td>kurtosis</td>\n",
       "      <td>MedInc</td>\n",
       "      <td>4.818001e+00</td>\n",
       "      <td>None</td>\n",
       "      <td>4.974421</td>\n",
       "      <td>None</td>\n",
       "      <td>1</td>\n",
       "      <td>2</td>\n",
       "      <td>2020-09-01</td>\n",
       "      <td>2021-03-05 23:30:00</td>\n",
       "      <td>2023-03-12 19:26:35.281043</td>\n",
       "      <td>NaN</td>\n",
       "    </tr>\n",
       "    <tr>\n",
       "      <th>...</th>\n",
       "      <td>...</td>\n",
       "      <td>...</td>\n",
       "      <td>...</td>\n",
       "      <td>...</td>\n",
       "      <td>...</td>\n",
       "      <td>...</td>\n",
       "      <td>...</td>\n",
       "      <td>...</td>\n",
       "      <td>...</td>\n",
       "      <td>...</td>\n",
       "      <td>...</td>\n",
       "      <td>...</td>\n",
       "      <td>...</td>\n",
       "    </tr>\n",
       "    <tr>\n",
       "      <th>117</th>\n",
       "      <td>drift</td>\n",
       "      <td>ks_2samp</td>\n",
       "      <td>AveBedrms</td>\n",
       "      <td>9.000303e-14</td>\n",
       "      <td>True</td>\n",
       "      <td>0.050000</td>\n",
       "      <td>None</td>\n",
       "      <td>1</td>\n",
       "      <td>2</td>\n",
       "      <td>2020-09-01</td>\n",
       "      <td>2021-03-05 23:30:00</td>\n",
       "      <td>2023-03-12 19:26:35.281043</td>\n",
       "      <td>NaN</td>\n",
       "    </tr>\n",
       "    <tr>\n",
       "      <th>118</th>\n",
       "      <td>drift</td>\n",
       "      <td>ks_2samp</td>\n",
       "      <td>MedInc</td>\n",
       "      <td>1.402674e-28</td>\n",
       "      <td>True</td>\n",
       "      <td>0.050000</td>\n",
       "      <td>None</td>\n",
       "      <td>1</td>\n",
       "      <td>2</td>\n",
       "      <td>2020-09-01</td>\n",
       "      <td>2021-03-05 23:30:00</td>\n",
       "      <td>2023-03-12 19:26:35.281043</td>\n",
       "      <td>NaN</td>\n",
       "    </tr>\n",
       "    <tr>\n",
       "      <th>119</th>\n",
       "      <td>drift</td>\n",
       "      <td>mmd</td>\n",
       "      <td>AveBedrms</td>\n",
       "      <td>6.912463e-04</td>\n",
       "      <td>None</td>\n",
       "      <td>NaN</td>\n",
       "      <td>None</td>\n",
       "      <td>1</td>\n",
       "      <td>2</td>\n",
       "      <td>2020-09-01</td>\n",
       "      <td>2021-03-05 23:30:00</td>\n",
       "      <td>2023-03-12 19:26:35.281043</td>\n",
       "      <td>NaN</td>\n",
       "    </tr>\n",
       "    <tr>\n",
       "      <th>120</th>\n",
       "      <td>drift</td>\n",
       "      <td>mmd</td>\n",
       "      <td>MedInc</td>\n",
       "      <td>7.522486e-03</td>\n",
       "      <td>None</td>\n",
       "      <td>NaN</td>\n",
       "      <td>None</td>\n",
       "      <td>1</td>\n",
       "      <td>2</td>\n",
       "      <td>2020-09-01</td>\n",
       "      <td>2021-03-05 23:30:00</td>\n",
       "      <td>2023-03-12 19:26:35.281043</td>\n",
       "      <td>NaN</td>\n",
       "    </tr>\n",
       "    <tr>\n",
       "      <th>121</th>\n",
       "      <td>performance</td>\n",
       "      <td>accuracy</td>\n",
       "      <td>prediction</td>\n",
       "      <td>6.114471e-01</td>\n",
       "      <td>None</td>\n",
       "      <td>NaN</td>\n",
       "      <td>None</td>\n",
       "      <td>1</td>\n",
       "      <td>2</td>\n",
       "      <td>2020-09-01</td>\n",
       "      <td>2021-03-05 23:30:00</td>\n",
       "      <td>2023-03-12 19:26:35.281043</td>\n",
       "      <td>NaN</td>\n",
       "    </tr>\n",
       "  </tbody>\n",
       "</table>\n",
       "<p>122 rows × 13 columns</p>\n",
       "</div>"
      ],
      "text/plain": [
       "     metric_type metric_name feature_name  metric_value drift_status  \\\n",
       "0     statistics        mean       MedInc  3.841661e+00         None   \n",
       "1     statistics      median       MedInc  3.558400e+00         None   \n",
       "2     statistics         std       MedInc  1.796196e+00         None   \n",
       "3     statistics    skewness       MedInc  1.561581e+00         None   \n",
       "4     statistics    kurtosis       MedInc  4.818001e+00         None   \n",
       "..           ...         ...          ...           ...          ...   \n",
       "117        drift    ks_2samp    AveBedrms  9.000303e-14         True   \n",
       "118        drift    ks_2samp       MedInc  1.402674e-28         True   \n",
       "119        drift         mmd    AveBedrms  6.912463e-04         None   \n",
       "120        drift         mmd       MedInc  7.522486e-03         None   \n",
       "121  performance    accuracy   prediction  6.114471e-01         None   \n",
       "\n",
       "     threshold conf_int  model_id  model_version period_start  \\\n",
       "0     4.233536     None         1              2   2020-09-01   \n",
       "1     3.846350     None         1              2   2020-09-01   \n",
       "2     1.926329     None         1              2   2020-09-01   \n",
       "3     1.673273     None         1              2   2020-09-01   \n",
       "4     4.974421     None         1              2   2020-09-01   \n",
       "..         ...      ...       ...            ...          ...   \n",
       "117   0.050000     None         1              2   2020-09-01   \n",
       "118   0.050000     None         1              2   2020-09-01   \n",
       "119        NaN     None         1              2   2020-09-01   \n",
       "120        NaN     None         1              2   2020-09-01   \n",
       "121        NaN     None         1              2   2020-09-01   \n",
       "\n",
       "             period_end             eval_timestamp options  \n",
       "0   2021-03-05 23:30:00 2023-03-12 19:26:35.281043     NaN  \n",
       "1   2021-03-05 23:30:00 2023-03-12 19:26:35.281043     NaN  \n",
       "2   2021-03-05 23:30:00 2023-03-12 19:26:35.281043     NaN  \n",
       "3   2021-03-05 23:30:00 2023-03-12 19:26:35.281043     NaN  \n",
       "4   2021-03-05 23:30:00 2023-03-12 19:26:35.281043     NaN  \n",
       "..                  ...                        ...     ...  \n",
       "117 2021-03-05 23:30:00 2023-03-12 19:26:35.281043     NaN  \n",
       "118 2021-03-05 23:30:00 2023-03-12 19:26:35.281043     NaN  \n",
       "119 2021-03-05 23:30:00 2023-03-12 19:26:35.281043     NaN  \n",
       "120 2021-03-05 23:30:00 2023-03-12 19:26:35.281043     NaN  \n",
       "121 2021-03-05 23:30:00 2023-03-12 19:26:35.281043     NaN  \n",
       "\n",
       "[122 rows x 13 columns]"
      ]
     },
     "execution_count": 35,
     "metadata": {},
     "output_type": "execute_result"
    }
   ],
   "source": [
    "results = analysis.results_to_pandas()\n",
    "results"
   ]
  },
  {
   "cell_type": "code",
   "execution_count": 36,
   "metadata": {},
   "outputs": [
    {
     "data": {
      "text/html": [
       "<div>\n",
       "<style scoped>\n",
       "    .dataframe tbody tr th:only-of-type {\n",
       "        vertical-align: middle;\n",
       "    }\n",
       "\n",
       "    .dataframe tbody tr th {\n",
       "        vertical-align: top;\n",
       "    }\n",
       "\n",
       "    .dataframe thead th {\n",
       "        text-align: right;\n",
       "    }\n",
       "</style>\n",
       "<table border=\"1\" class=\"dataframe\">\n",
       "  <thead>\n",
       "    <tr style=\"text-align: right;\">\n",
       "      <th></th>\n",
       "      <th>metric_type</th>\n",
       "      <th>metric_name</th>\n",
       "      <th>feature_name</th>\n",
       "      <th>metric_value</th>\n",
       "      <th>drift_status</th>\n",
       "      <th>threshold</th>\n",
       "      <th>conf_int</th>\n",
       "      <th>model_id</th>\n",
       "      <th>model_version</th>\n",
       "      <th>period_start</th>\n",
       "      <th>period_end</th>\n",
       "      <th>eval_timestamp</th>\n",
       "      <th>options</th>\n",
       "    </tr>\n",
       "  </thead>\n",
       "  <tbody>\n",
       "    <tr>\n",
       "      <th>7</th>\n",
       "      <td>statistics</td>\n",
       "      <td>count</td>\n",
       "      <td>MedInc</td>\n",
       "      <td>8928.0</td>\n",
       "      <td>None</td>\n",
       "      <td>NaN</td>\n",
       "      <td>None</td>\n",
       "      <td>1</td>\n",
       "      <td>2</td>\n",
       "      <td>2020-09-01</td>\n",
       "      <td>2021-03-05 23:30:00</td>\n",
       "      <td>2023-03-12 19:26:35.281043</td>\n",
       "      <td>NaN</td>\n",
       "    </tr>\n",
       "    <tr>\n",
       "      <th>15</th>\n",
       "      <td>statistics</td>\n",
       "      <td>count</td>\n",
       "      <td>HouseAge</td>\n",
       "      <td>8928.0</td>\n",
       "      <td>None</td>\n",
       "      <td>NaN</td>\n",
       "      <td>None</td>\n",
       "      <td>1</td>\n",
       "      <td>2</td>\n",
       "      <td>2020-09-01</td>\n",
       "      <td>2021-03-05 23:30:00</td>\n",
       "      <td>2023-03-12 19:26:35.281043</td>\n",
       "      <td>NaN</td>\n",
       "    </tr>\n",
       "    <tr>\n",
       "      <th>23</th>\n",
       "      <td>statistics</td>\n",
       "      <td>count</td>\n",
       "      <td>AveRooms</td>\n",
       "      <td>8928.0</td>\n",
       "      <td>None</td>\n",
       "      <td>NaN</td>\n",
       "      <td>None</td>\n",
       "      <td>1</td>\n",
       "      <td>2</td>\n",
       "      <td>2020-09-01</td>\n",
       "      <td>2021-03-05 23:30:00</td>\n",
       "      <td>2023-03-12 19:26:35.281043</td>\n",
       "      <td>NaN</td>\n",
       "    </tr>\n",
       "    <tr>\n",
       "      <th>31</th>\n",
       "      <td>statistics</td>\n",
       "      <td>count</td>\n",
       "      <td>AveBedrms</td>\n",
       "      <td>8928.0</td>\n",
       "      <td>None</td>\n",
       "      <td>NaN</td>\n",
       "      <td>None</td>\n",
       "      <td>1</td>\n",
       "      <td>2</td>\n",
       "      <td>2020-09-01</td>\n",
       "      <td>2021-03-05 23:30:00</td>\n",
       "      <td>2023-03-12 19:26:35.281043</td>\n",
       "      <td>NaN</td>\n",
       "    </tr>\n",
       "    <tr>\n",
       "      <th>39</th>\n",
       "      <td>statistics</td>\n",
       "      <td>count</td>\n",
       "      <td>Population</td>\n",
       "      <td>8928.0</td>\n",
       "      <td>None</td>\n",
       "      <td>NaN</td>\n",
       "      <td>None</td>\n",
       "      <td>1</td>\n",
       "      <td>2</td>\n",
       "      <td>2020-09-01</td>\n",
       "      <td>2021-03-05 23:30:00</td>\n",
       "      <td>2023-03-12 19:26:35.281043</td>\n",
       "      <td>NaN</td>\n",
       "    </tr>\n",
       "    <tr>\n",
       "      <th>47</th>\n",
       "      <td>statistics</td>\n",
       "      <td>count</td>\n",
       "      <td>AveOccup</td>\n",
       "      <td>8928.0</td>\n",
       "      <td>None</td>\n",
       "      <td>NaN</td>\n",
       "      <td>None</td>\n",
       "      <td>1</td>\n",
       "      <td>2</td>\n",
       "      <td>2020-09-01</td>\n",
       "      <td>2021-03-05 23:30:00</td>\n",
       "      <td>2023-03-12 19:26:35.281043</td>\n",
       "      <td>NaN</td>\n",
       "    </tr>\n",
       "    <tr>\n",
       "      <th>55</th>\n",
       "      <td>statistics</td>\n",
       "      <td>count</td>\n",
       "      <td>Latitude</td>\n",
       "      <td>8928.0</td>\n",
       "      <td>None</td>\n",
       "      <td>NaN</td>\n",
       "      <td>None</td>\n",
       "      <td>1</td>\n",
       "      <td>2</td>\n",
       "      <td>2020-09-01</td>\n",
       "      <td>2021-03-05 23:30:00</td>\n",
       "      <td>2023-03-12 19:26:35.281043</td>\n",
       "      <td>NaN</td>\n",
       "    </tr>\n",
       "    <tr>\n",
       "      <th>63</th>\n",
       "      <td>statistics</td>\n",
       "      <td>count</td>\n",
       "      <td>Longitude</td>\n",
       "      <td>8928.0</td>\n",
       "      <td>None</td>\n",
       "      <td>NaN</td>\n",
       "      <td>None</td>\n",
       "      <td>1</td>\n",
       "      <td>2</td>\n",
       "      <td>2020-09-01</td>\n",
       "      <td>2021-03-05 23:30:00</td>\n",
       "      <td>2023-03-12 19:26:35.281043</td>\n",
       "      <td>NaN</td>\n",
       "    </tr>\n",
       "    <tr>\n",
       "      <th>64</th>\n",
       "      <td>statistics</td>\n",
       "      <td>count</td>\n",
       "      <td>pred_timestamp</td>\n",
       "      <td>8928.0</td>\n",
       "      <td>None</td>\n",
       "      <td>NaN</td>\n",
       "      <td>None</td>\n",
       "      <td>1</td>\n",
       "      <td>2</td>\n",
       "      <td>2020-09-01</td>\n",
       "      <td>2021-03-05 23:30:00</td>\n",
       "      <td>2023-03-12 19:26:35.281043</td>\n",
       "      <td>NaN</td>\n",
       "    </tr>\n",
       "    <tr>\n",
       "      <th>72</th>\n",
       "      <td>statistics</td>\n",
       "      <td>count</td>\n",
       "      <td>y_pred_proba</td>\n",
       "      <td>8928.0</td>\n",
       "      <td>None</td>\n",
       "      <td>NaN</td>\n",
       "      <td>None</td>\n",
       "      <td>1</td>\n",
       "      <td>2</td>\n",
       "      <td>2020-09-01</td>\n",
       "      <td>2021-03-05 23:30:00</td>\n",
       "      <td>2023-03-12 19:26:35.281043</td>\n",
       "      <td>NaN</td>\n",
       "    </tr>\n",
       "    <tr>\n",
       "      <th>80</th>\n",
       "      <td>statistics</td>\n",
       "      <td>count</td>\n",
       "      <td>y_pred</td>\n",
       "      <td>8928.0</td>\n",
       "      <td>None</td>\n",
       "      <td>NaN</td>\n",
       "      <td>None</td>\n",
       "      <td>1</td>\n",
       "      <td>2</td>\n",
       "      <td>2020-09-01</td>\n",
       "      <td>2021-03-05 23:30:00</td>\n",
       "      <td>2023-03-12 19:26:35.281043</td>\n",
       "      <td>NaN</td>\n",
       "    </tr>\n",
       "    <tr>\n",
       "      <th>88</th>\n",
       "      <td>statistics</td>\n",
       "      <td>count</td>\n",
       "      <td>identifier</td>\n",
       "      <td>8928.0</td>\n",
       "      <td>None</td>\n",
       "      <td>NaN</td>\n",
       "      <td>None</td>\n",
       "      <td>1</td>\n",
       "      <td>2</td>\n",
       "      <td>2020-09-01</td>\n",
       "      <td>2021-03-05 23:30:00</td>\n",
       "      <td>2023-03-12 19:26:35.281043</td>\n",
       "      <td>NaN</td>\n",
       "    </tr>\n",
       "    <tr>\n",
       "      <th>96</th>\n",
       "      <td>statistics</td>\n",
       "      <td>count</td>\n",
       "      <td>model_id</td>\n",
       "      <td>8928.0</td>\n",
       "      <td>None</td>\n",
       "      <td>NaN</td>\n",
       "      <td>None</td>\n",
       "      <td>1</td>\n",
       "      <td>2</td>\n",
       "      <td>2020-09-01</td>\n",
       "      <td>2021-03-05 23:30:00</td>\n",
       "      <td>2023-03-12 19:26:35.281043</td>\n",
       "      <td>NaN</td>\n",
       "    </tr>\n",
       "    <tr>\n",
       "      <th>104</th>\n",
       "      <td>statistics</td>\n",
       "      <td>count</td>\n",
       "      <td>model_version</td>\n",
       "      <td>8928.0</td>\n",
       "      <td>None</td>\n",
       "      <td>NaN</td>\n",
       "      <td>None</td>\n",
       "      <td>1</td>\n",
       "      <td>2</td>\n",
       "      <td>2020-09-01</td>\n",
       "      <td>2021-03-05 23:30:00</td>\n",
       "      <td>2023-03-12 19:26:35.281043</td>\n",
       "      <td>NaN</td>\n",
       "    </tr>\n",
       "    <tr>\n",
       "      <th>112</th>\n",
       "      <td>statistics</td>\n",
       "      <td>count</td>\n",
       "      <td>clf_target</td>\n",
       "      <td>8928.0</td>\n",
       "      <td>None</td>\n",
       "      <td>NaN</td>\n",
       "      <td>None</td>\n",
       "      <td>1</td>\n",
       "      <td>2</td>\n",
       "      <td>2020-09-01</td>\n",
       "      <td>2021-03-05 23:30:00</td>\n",
       "      <td>2023-03-12 19:26:35.281043</td>\n",
       "      <td>NaN</td>\n",
       "    </tr>\n",
       "  </tbody>\n",
       "</table>\n",
       "</div>"
      ],
      "text/plain": [
       "    metric_type metric_name    feature_name  metric_value drift_status  \\\n",
       "7    statistics       count          MedInc        8928.0         None   \n",
       "15   statistics       count        HouseAge        8928.0         None   \n",
       "23   statistics       count        AveRooms        8928.0         None   \n",
       "31   statistics       count       AveBedrms        8928.0         None   \n",
       "39   statistics       count      Population        8928.0         None   \n",
       "47   statistics       count        AveOccup        8928.0         None   \n",
       "55   statistics       count        Latitude        8928.0         None   \n",
       "63   statistics       count       Longitude        8928.0         None   \n",
       "64   statistics       count  pred_timestamp        8928.0         None   \n",
       "72   statistics       count    y_pred_proba        8928.0         None   \n",
       "80   statistics       count          y_pred        8928.0         None   \n",
       "88   statistics       count      identifier        8928.0         None   \n",
       "96   statistics       count        model_id        8928.0         None   \n",
       "104  statistics       count   model_version        8928.0         None   \n",
       "112  statistics       count      clf_target        8928.0         None   \n",
       "\n",
       "     threshold conf_int  model_id  model_version period_start  \\\n",
       "7          NaN     None         1              2   2020-09-01   \n",
       "15         NaN     None         1              2   2020-09-01   \n",
       "23         NaN     None         1              2   2020-09-01   \n",
       "31         NaN     None         1              2   2020-09-01   \n",
       "39         NaN     None         1              2   2020-09-01   \n",
       "47         NaN     None         1              2   2020-09-01   \n",
       "55         NaN     None         1              2   2020-09-01   \n",
       "63         NaN     None         1              2   2020-09-01   \n",
       "64         NaN     None         1              2   2020-09-01   \n",
       "72         NaN     None         1              2   2020-09-01   \n",
       "80         NaN     None         1              2   2020-09-01   \n",
       "88         NaN     None         1              2   2020-09-01   \n",
       "96         NaN     None         1              2   2020-09-01   \n",
       "104        NaN     None         1              2   2020-09-01   \n",
       "112        NaN     None         1              2   2020-09-01   \n",
       "\n",
       "             period_end             eval_timestamp options  \n",
       "7   2021-03-05 23:30:00 2023-03-12 19:26:35.281043     NaN  \n",
       "15  2021-03-05 23:30:00 2023-03-12 19:26:35.281043     NaN  \n",
       "23  2021-03-05 23:30:00 2023-03-12 19:26:35.281043     NaN  \n",
       "31  2021-03-05 23:30:00 2023-03-12 19:26:35.281043     NaN  \n",
       "39  2021-03-05 23:30:00 2023-03-12 19:26:35.281043     NaN  \n",
       "47  2021-03-05 23:30:00 2023-03-12 19:26:35.281043     NaN  \n",
       "55  2021-03-05 23:30:00 2023-03-12 19:26:35.281043     NaN  \n",
       "63  2021-03-05 23:30:00 2023-03-12 19:26:35.281043     NaN  \n",
       "64  2021-03-05 23:30:00 2023-03-12 19:26:35.281043     NaN  \n",
       "72  2021-03-05 23:30:00 2023-03-12 19:26:35.281043     NaN  \n",
       "80  2021-03-05 23:30:00 2023-03-12 19:26:35.281043     NaN  \n",
       "88  2021-03-05 23:30:00 2023-03-12 19:26:35.281043     NaN  \n",
       "96  2021-03-05 23:30:00 2023-03-12 19:26:35.281043     NaN  \n",
       "104 2021-03-05 23:30:00 2023-03-12 19:26:35.281043     NaN  \n",
       "112 2021-03-05 23:30:00 2023-03-12 19:26:35.281043     NaN  "
      ]
     },
     "execution_count": 36,
     "metadata": {},
     "output_type": "execute_result"
    }
   ],
   "source": [
    "results.loc[(results.metric_type=='statistics') & (results.metric_name=='count')]"
   ]
  },
  {
   "cell_type": "code",
   "execution_count": null,
   "metadata": {},
   "outputs": [],
   "source": []
  }
 ],
 "metadata": {
  "interpreter": {
   "hash": "1c3d32cd99eeeff60d6e120bed6afb1c525328e0a32a6d151d066953e31db362"
  },
  "kernelspec": {
   "display_name": "Python 3.9.12 ('rs-metrics2')",
   "language": "python",
   "name": "python3"
  },
  "language_info": {
   "codemirror_mode": {
    "name": "ipython",
    "version": 3
   },
   "file_extension": ".py",
   "mimetype": "text/x-python",
   "name": "python",
   "nbconvert_exporter": "python",
   "pygments_lexer": "ipython3",
   "version": "3.9.16"
  },
  "orig_nbformat": 4
 },
 "nbformat": 4,
 "nbformat_minor": 2
}
