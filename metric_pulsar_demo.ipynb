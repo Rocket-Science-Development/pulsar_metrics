{
 "cells": [
  {
   "cell_type": "markdown",
   "metadata": {},
   "source": [
    "# Data"
   ]
  },
  {
   "cell_type": "markdown",
   "metadata": {},
   "source": [
    "### Reference data"
   ]
  },
  {
   "cell_type": "code",
   "execution_count": 23,
   "metadata": {},
   "outputs": [],
   "source": [
    "import pandas as pd\n",
    "from datetime import datetime"
   ]
  },
  {
   "cell_type": "code",
   "execution_count": 24,
   "metadata": {},
   "outputs": [],
   "source": [
    "df_ref = pd.read_csv('data/kidney_ref.csv')"
   ]
  },
  {
   "cell_type": "code",
   "execution_count": 25,
   "metadata": {},
   "outputs": [
    {
     "data": {
      "text/html": [
       "<div>\n",
       "<style scoped>\n",
       "    .dataframe tbody tr th:only-of-type {\n",
       "        vertical-align: middle;\n",
       "    }\n",
       "\n",
       "    .dataframe tbody tr th {\n",
       "        vertical-align: top;\n",
       "    }\n",
       "\n",
       "    .dataframe thead th {\n",
       "        text-align: right;\n",
       "    }\n",
       "</style>\n",
       "<table border=\"1\" class=\"dataframe\">\n",
       "  <thead>\n",
       "    <tr style=\"text-align: right;\">\n",
       "      <th></th>\n",
       "      <th>id</th>\n",
       "      <th>age</th>\n",
       "      <th>bp</th>\n",
       "      <th>sg</th>\n",
       "      <th>al</th>\n",
       "      <th>su</th>\n",
       "      <th>rbc</th>\n",
       "      <th>pc</th>\n",
       "      <th>pcc</th>\n",
       "      <th>ba</th>\n",
       "      <th>...</th>\n",
       "      <th>pe</th>\n",
       "      <th>ane</th>\n",
       "      <th>class</th>\n",
       "      <th>y_pred</th>\n",
       "      <th>clf_target</th>\n",
       "      <th>y_pred_proba</th>\n",
       "      <th>pred_timestamp</th>\n",
       "      <th>model_id</th>\n",
       "      <th>model_version</th>\n",
       "      <th>period</th>\n",
       "    </tr>\n",
       "  </thead>\n",
       "  <tbody>\n",
       "    <tr>\n",
       "      <th>0</th>\n",
       "      <td>214</td>\n",
       "      <td>55.0</td>\n",
       "      <td>80.0</td>\n",
       "      <td>1.010</td>\n",
       "      <td>3.0</td>\n",
       "      <td>1</td>\n",
       "      <td>1</td>\n",
       "      <td>0</td>\n",
       "      <td>1</td>\n",
       "      <td>1</td>\n",
       "      <td>...</td>\n",
       "      <td>1</td>\n",
       "      <td>0</td>\n",
       "      <td>1</td>\n",
       "      <td>1</td>\n",
       "      <td>0</td>\n",
       "      <td>1.00</td>\n",
       "      <td>2022-07-01</td>\n",
       "      <td>1</td>\n",
       "      <td>1</td>\n",
       "      <td>reference</td>\n",
       "    </tr>\n",
       "    <tr>\n",
       "      <th>1</th>\n",
       "      <td>372</td>\n",
       "      <td>28.0</td>\n",
       "      <td>60.0</td>\n",
       "      <td>1.025</td>\n",
       "      <td>0.0</td>\n",
       "      <td>0</td>\n",
       "      <td>1</td>\n",
       "      <td>1</td>\n",
       "      <td>0</td>\n",
       "      <td>0</td>\n",
       "      <td>...</td>\n",
       "      <td>0</td>\n",
       "      <td>0</td>\n",
       "      <td>0</td>\n",
       "      <td>1</td>\n",
       "      <td>0</td>\n",
       "      <td>1.00</td>\n",
       "      <td>2022-07-01</td>\n",
       "      <td>1</td>\n",
       "      <td>1</td>\n",
       "      <td>reference</td>\n",
       "    </tr>\n",
       "    <tr>\n",
       "      <th>2</th>\n",
       "      <td>367</td>\n",
       "      <td>60.0</td>\n",
       "      <td>80.0</td>\n",
       "      <td>1.025</td>\n",
       "      <td>0.0</td>\n",
       "      <td>0</td>\n",
       "      <td>1</td>\n",
       "      <td>1</td>\n",
       "      <td>0</td>\n",
       "      <td>0</td>\n",
       "      <td>...</td>\n",
       "      <td>0</td>\n",
       "      <td>0</td>\n",
       "      <td>0</td>\n",
       "      <td>0</td>\n",
       "      <td>0</td>\n",
       "      <td>0.99</td>\n",
       "      <td>2022-07-01</td>\n",
       "      <td>1</td>\n",
       "      <td>1</td>\n",
       "      <td>reference</td>\n",
       "    </tr>\n",
       "    <tr>\n",
       "      <th>3</th>\n",
       "      <td>260</td>\n",
       "      <td>35.0</td>\n",
       "      <td>80.0</td>\n",
       "      <td>1.020</td>\n",
       "      <td>0.0</td>\n",
       "      <td>0</td>\n",
       "      <td>1</td>\n",
       "      <td>1</td>\n",
       "      <td>0</td>\n",
       "      <td>0</td>\n",
       "      <td>...</td>\n",
       "      <td>0</td>\n",
       "      <td>0</td>\n",
       "      <td>0</td>\n",
       "      <td>0</td>\n",
       "      <td>0</td>\n",
       "      <td>0.98</td>\n",
       "      <td>2022-07-01</td>\n",
       "      <td>1</td>\n",
       "      <td>1</td>\n",
       "      <td>reference</td>\n",
       "    </tr>\n",
       "    <tr>\n",
       "      <th>4</th>\n",
       "      <td>374</td>\n",
       "      <td>61.0</td>\n",
       "      <td>70.0</td>\n",
       "      <td>1.025</td>\n",
       "      <td>0.0</td>\n",
       "      <td>0</td>\n",
       "      <td>1</td>\n",
       "      <td>1</td>\n",
       "      <td>0</td>\n",
       "      <td>0</td>\n",
       "      <td>...</td>\n",
       "      <td>0</td>\n",
       "      <td>0</td>\n",
       "      <td>0</td>\n",
       "      <td>1</td>\n",
       "      <td>0</td>\n",
       "      <td>0.91</td>\n",
       "      <td>2022-07-01</td>\n",
       "      <td>1</td>\n",
       "      <td>1</td>\n",
       "      <td>reference</td>\n",
       "    </tr>\n",
       "  </tbody>\n",
       "</table>\n",
       "<p>5 rows × 33 columns</p>\n",
       "</div>"
      ],
      "text/plain": [
       "    id   age    bp     sg   al  su  rbc  pc  pcc  ba  ...  pe  ane  class  \\\n",
       "0  214  55.0  80.0  1.010  3.0   1    1   0    1   1  ...   1    0      1   \n",
       "1  372  28.0  60.0  1.025  0.0   0    1   1    0   0  ...   0    0      0   \n",
       "2  367  60.0  80.0  1.025  0.0   0    1   1    0   0  ...   0    0      0   \n",
       "3  260  35.0  80.0  1.020  0.0   0    1   1    0   0  ...   0    0      0   \n",
       "4  374  61.0  70.0  1.025  0.0   0    1   1    0   0  ...   0    0      0   \n",
       "\n",
       "   y_pred  clf_target  y_pred_proba  pred_timestamp  model_id  model_version  \\\n",
       "0       1           0          1.00      2022-07-01         1              1   \n",
       "1       1           0          1.00      2022-07-01         1              1   \n",
       "2       0           0          0.99      2022-07-01         1              1   \n",
       "3       0           0          0.98      2022-07-01         1              1   \n",
       "4       1           0          0.91      2022-07-01         1              1   \n",
       "\n",
       "      period  \n",
       "0  reference  \n",
       "1  reference  \n",
       "2  reference  \n",
       "3  reference  \n",
       "4  reference  \n",
       "\n",
       "[5 rows x 33 columns]"
      ]
     },
     "execution_count": 25,
     "metadata": {},
     "output_type": "execute_result"
    }
   ],
   "source": [
    "df_ref.head()"
   ]
  },
  {
   "cell_type": "markdown",
   "metadata": {},
   "source": [
    "### New data"
   ]
  },
  {
   "cell_type": "code",
   "execution_count": 26,
   "metadata": {},
   "outputs": [],
   "source": [
    "df_new = pd.read_csv('data/dataframe_client.csv', sep = ',')"
   ]
  },
  {
   "cell_type": "code",
   "execution_count": 27,
   "metadata": {},
   "outputs": [
    {
     "data": {
      "text/html": [
       "<div>\n",
       "<style scoped>\n",
       "    .dataframe tbody tr th:only-of-type {\n",
       "        vertical-align: middle;\n",
       "    }\n",
       "\n",
       "    .dataframe tbody tr th {\n",
       "        vertical-align: top;\n",
       "    }\n",
       "\n",
       "    .dataframe thead th {\n",
       "        text-align: right;\n",
       "    }\n",
       "</style>\n",
       "<table border=\"1\" class=\"dataframe\">\n",
       "  <thead>\n",
       "    <tr style=\"text-align: right;\">\n",
       "      <th></th>\n",
       "      <th>time</th>\n",
       "      <th>age</th>\n",
       "      <th>al</th>\n",
       "      <th>ane</th>\n",
       "      <th>appet</th>\n",
       "      <th>ba</th>\n",
       "      <th>bgr</th>\n",
       "      <th>bp</th>\n",
       "      <th>bu</th>\n",
       "      <th>cad</th>\n",
       "      <th>...</th>\n",
       "      <th>rbcc</th>\n",
       "      <th>sc</th>\n",
       "      <th>sg</th>\n",
       "      <th>sod</th>\n",
       "      <th>su</th>\n",
       "      <th>target</th>\n",
       "      <th>wbcc</th>\n",
       "      <th>y_name</th>\n",
       "      <th>pred_timestamp</th>\n",
       "      <th>eval_timestamp</th>\n",
       "    </tr>\n",
       "  </thead>\n",
       "  <tbody>\n",
       "    <tr>\n",
       "      <th>0</th>\n",
       "      <td>2022-08-06T00:35:06.565042Z</td>\n",
       "      <td>83.0</td>\n",
       "      <td>3.0</td>\n",
       "      <td>1</td>\n",
       "      <td>1</td>\n",
       "      <td>0</td>\n",
       "      <td>102.0</td>\n",
       "      <td>70.0</td>\n",
       "      <td>60.0</td>\n",
       "      <td>0</td>\n",
       "      <td>...</td>\n",
       "      <td>3.1</td>\n",
       "      <td>2.6</td>\n",
       "      <td>1.020</td>\n",
       "      <td>115.0</td>\n",
       "      <td>0</td>\n",
       "      <td>1</td>\n",
       "      <td>12800.0</td>\n",
       "      <td>NaN</td>\n",
       "      <td>2022-08-21</td>\n",
       "      <td>2022-08-26</td>\n",
       "    </tr>\n",
       "    <tr>\n",
       "      <th>1</th>\n",
       "      <td>2022-08-09T11:47:43.406341Z</td>\n",
       "      <td>25.0</td>\n",
       "      <td>0.0</td>\n",
       "      <td>0</td>\n",
       "      <td>0</td>\n",
       "      <td>0</td>\n",
       "      <td>121.0</td>\n",
       "      <td>80.0</td>\n",
       "      <td>19.0</td>\n",
       "      <td>0</td>\n",
       "      <td>...</td>\n",
       "      <td>5.3</td>\n",
       "      <td>1.2</td>\n",
       "      <td>1.025</td>\n",
       "      <td>142.0</td>\n",
       "      <td>0</td>\n",
       "      <td>0</td>\n",
       "      <td>6900.0</td>\n",
       "      <td>NaN</td>\n",
       "      <td>2022-08-21</td>\n",
       "      <td>2022-08-26</td>\n",
       "    </tr>\n",
       "    <tr>\n",
       "      <th>2</th>\n",
       "      <td>2022-08-12T12:24:23.593044Z</td>\n",
       "      <td>25.0</td>\n",
       "      <td>0.0</td>\n",
       "      <td>0</td>\n",
       "      <td>0</td>\n",
       "      <td>0</td>\n",
       "      <td>121.0</td>\n",
       "      <td>80.0</td>\n",
       "      <td>19.0</td>\n",
       "      <td>0</td>\n",
       "      <td>...</td>\n",
       "      <td>5.3</td>\n",
       "      <td>1.2</td>\n",
       "      <td>1.025</td>\n",
       "      <td>142.0</td>\n",
       "      <td>0</td>\n",
       "      <td>0</td>\n",
       "      <td>6900.0</td>\n",
       "      <td>NaN</td>\n",
       "      <td>2022-08-21</td>\n",
       "      <td>2022-08-26</td>\n",
       "    </tr>\n",
       "    <tr>\n",
       "      <th>3</th>\n",
       "      <td>2022-08-12T12:36:14.661246Z</td>\n",
       "      <td>25.0</td>\n",
       "      <td>0.0</td>\n",
       "      <td>0</td>\n",
       "      <td>0</td>\n",
       "      <td>0</td>\n",
       "      <td>121.0</td>\n",
       "      <td>80.0</td>\n",
       "      <td>19.0</td>\n",
       "      <td>0</td>\n",
       "      <td>...</td>\n",
       "      <td>5.3</td>\n",
       "      <td>1.2</td>\n",
       "      <td>1.025</td>\n",
       "      <td>142.0</td>\n",
       "      <td>0</td>\n",
       "      <td>0</td>\n",
       "      <td>6900.0</td>\n",
       "      <td>NaN</td>\n",
       "      <td>2022-08-21</td>\n",
       "      <td>2022-08-26</td>\n",
       "    </tr>\n",
       "    <tr>\n",
       "      <th>4</th>\n",
       "      <td>2022-08-16T11:34:56.583918Z</td>\n",
       "      <td>25.0</td>\n",
       "      <td>0.0</td>\n",
       "      <td>0</td>\n",
       "      <td>0</td>\n",
       "      <td>0</td>\n",
       "      <td>121.0</td>\n",
       "      <td>80.0</td>\n",
       "      <td>19.0</td>\n",
       "      <td>0</td>\n",
       "      <td>...</td>\n",
       "      <td>5.3</td>\n",
       "      <td>1.2</td>\n",
       "      <td>1.025</td>\n",
       "      <td>142.0</td>\n",
       "      <td>0</td>\n",
       "      <td>0</td>\n",
       "      <td>6900.0</td>\n",
       "      <td>ABC</td>\n",
       "      <td>2022-08-21</td>\n",
       "      <td>2022-08-26</td>\n",
       "    </tr>\n",
       "  </tbody>\n",
       "</table>\n",
       "<p>5 rows × 37 columns</p>\n",
       "</div>"
      ],
      "text/plain": [
       "                          time   age   al  ane  appet  ba    bgr    bp    bu  \\\n",
       "0  2022-08-06T00:35:06.565042Z  83.0  3.0    1      1   0  102.0  70.0  60.0   \n",
       "1  2022-08-09T11:47:43.406341Z  25.0  0.0    0      0   0  121.0  80.0  19.0   \n",
       "2  2022-08-12T12:24:23.593044Z  25.0  0.0    0      0   0  121.0  80.0  19.0   \n",
       "3  2022-08-12T12:36:14.661246Z  25.0  0.0    0      0   0  121.0  80.0  19.0   \n",
       "4  2022-08-16T11:34:56.583918Z  25.0  0.0    0      0   0  121.0  80.0  19.0   \n",
       "\n",
       "   cad  ... rbcc   sc     sg    sod  su  target     wbcc  y_name  \\\n",
       "0    0  ...  3.1  2.6  1.020  115.0   0       1  12800.0     NaN   \n",
       "1    0  ...  5.3  1.2  1.025  142.0   0       0   6900.0     NaN   \n",
       "2    0  ...  5.3  1.2  1.025  142.0   0       0   6900.0     NaN   \n",
       "3    0  ...  5.3  1.2  1.025  142.0   0       0   6900.0     NaN   \n",
       "4    0  ...  5.3  1.2  1.025  142.0   0       0   6900.0     ABC   \n",
       "\n",
       "  pred_timestamp  eval_timestamp  \n",
       "0     2022-08-21      2022-08-26  \n",
       "1     2022-08-21      2022-08-26  \n",
       "2     2022-08-21      2022-08-26  \n",
       "3     2022-08-21      2022-08-26  \n",
       "4     2022-08-21      2022-08-26  \n",
       "\n",
       "[5 rows x 37 columns]"
      ]
     },
     "execution_count": 27,
     "metadata": {},
     "output_type": "execute_result"
    }
   ],
   "source": [
    "df_new.head()"
   ]
  },
  {
   "cell_type": "markdown",
   "metadata": {},
   "source": [
    "# Metrics"
   ]
  },
  {
   "cell_type": "markdown",
   "metadata": {},
   "source": [
    "## Metrics types"
   ]
  },
  {
   "cell_type": "code",
   "execution_count": 28,
   "metadata": {},
   "outputs": [
    {
     "data": {
      "text/plain": [
       "['performance', 'drift', 'custom']"
      ]
     },
     "execution_count": 28,
     "metadata": {},
     "output_type": "execute_result"
    }
   ],
   "source": [
    "from pulsar_metrics.metrics.base import MetricsType\n",
    "MetricsType._member_names_"
   ]
  },
  {
   "cell_type": "markdown",
   "metadata": {},
   "source": [
    "## MetricsResults"
   ]
  },
  {
   "cell_type": "code",
   "execution_count": 29,
   "metadata": {},
   "outputs": [],
   "source": [
    "from pulsar_metrics.metrics.base import MetricResults"
   ]
  },
  {
   "cell_type": "code",
   "execution_count": 30,
   "metadata": {},
   "outputs": [
    {
     "ename": "TypeError",
     "evalue": "'module' object is not callable",
     "output_type": "error",
     "traceback": [
      "\u001b[0;31m---------------------------------------------------------------------------\u001b[0m",
      "\u001b[0;31mTypeError\u001b[0m                                 Traceback (most recent call last)",
      "Cell \u001b[0;32mIn [30], line 1\u001b[0m\n\u001b[0;32m----> 1\u001b[0m result \u001b[39m=\u001b[39m MetricResults(name \u001b[39m=\u001b[39m \u001b[39m\"\u001b[39m\u001b[39maccuracy\u001b[39m\u001b[39m\"\u001b[39m, \u001b[39mtype\u001b[39m \u001b[39m=\u001b[39m \u001b[39m\"\u001b[39m\u001b[39mperformance\u001b[39m\u001b[39m\"\u001b[39m, model_id \u001b[39m=\u001b[39m \u001b[39m\"\u001b[39m\u001b[39m1\u001b[39m\u001b[39m\"\u001b[39m, model_version \u001b[39m=\u001b[39m \u001b[39m\"\u001b[39m\u001b[39m1.0\u001b[39m\u001b[39m\"\u001b[39m, period_end \u001b[39m=\u001b[39m datetime(\u001b[39m2022\u001b[39;49m,\u001b[39m8\u001b[39;49m,\u001b[39m10\u001b[39;49m))\n",
      "\u001b[0;31mTypeError\u001b[0m: 'module' object is not callable"
     ]
    }
   ],
   "source": [
    "result = MetricResults(name = \"accuracy\", type = \"performance\", model_id = \"1\", model_version = \"1.0\", period_end = datetime(2022,8,10))"
   ]
  },
  {
   "cell_type": "code",
   "execution_count": null,
   "metadata": {},
   "outputs": [
    {
     "data": {
      "text/plain": [
       "MetricResults(metric_name=None, type='performance', model_id='1', model_version='1.0', data_id=None, feature=None, value=None, status=None, threshold=None, period_start=None, period_end=datetime.datetime(2022, 8, 10, 0, 0), eval_timestamp=datetime.datetime(2022, 10, 20, 11, 30, 35, 355092), conf_int=None)"
      ]
     },
     "execution_count": 26,
     "metadata": {},
     "output_type": "execute_result"
    }
   ],
   "source": [
    "result"
   ]
  },
  {
   "cell_type": "markdown",
   "metadata": {},
   "source": [
    "### Performance metrics"
   ]
  },
  {
   "cell_type": "code",
   "execution_count": null,
   "metadata": {},
   "outputs": [
    {
     "data": {
      "text/plain": [
       "['accuracy',\n",
       " 'precision',\n",
       " 'recall',\n",
       " 'f1',\n",
       " 'log_loss',\n",
       " 'auc',\n",
       " 'aucpr',\n",
       " 'brier',\n",
       " 'mse',\n",
       " 'mae',\n",
       " 'mape',\n",
       " 'r2']"
      ]
     },
     "execution_count": 28,
     "metadata": {},
     "output_type": "execute_result"
    }
   ],
   "source": [
    "from pulsar_metrics.metrics.performance import PerformanceMetricsFuncs\n",
    "PerformanceMetricsFuncs._member_names_"
   ]
  },
  {
   "cell_type": "code",
   "execution_count": null,
   "metadata": {},
   "outputs": [],
   "source": [
    "from pulsar_metrics.metrics.performance import PerformanceMetric\n",
    "\n",
    "auc = PerformanceMetric(name = 'auc', data = df_ref, y_name = 'clf_target')"
   ]
  },
  {
   "cell_type": "code",
   "execution_count": null,
   "metadata": {},
   "outputs": [],
   "source": [
    "auc._result"
   ]
  },
  {
   "cell_type": "code",
   "execution_count": null,
   "metadata": {},
   "outputs": [
    {
     "data": {
      "text/plain": [
       "MetricResults(metric_name='auc', type='performance', model_id='1', model_version='1', data_id=None, feature='prediction', value=0.7727272727272727, status=False, threshold=0.5, period_start=Timestamp('2022-07-01 00:00:00'), period_end=Timestamp('2022-07-01 00:00:00'), eval_timestamp=datetime.datetime(2022, 10, 20, 11, 30, 35, 355092), conf_int=None)"
      ]
     },
     "execution_count": 33,
     "metadata": {},
     "output_type": "execute_result"
    }
   ],
   "source": [
    "auc_result = auc.evaluate(bootstrap=False,  threshold = 0.5)\n",
    "auc_result"
   ]
  },
  {
   "cell_type": "markdown",
   "metadata": {},
   "source": [
    "### Drift metrics"
   ]
  },
  {
   "cell_type": "code",
   "execution_count": null,
   "metadata": {},
   "outputs": [],
   "source": [
    "from pulsar_metrics.metrics.drift import DriftMetricsFuncs, DriftTestMetricsFuncs"
   ]
  },
  {
   "cell_type": "code",
   "execution_count": null,
   "metadata": {},
   "outputs": [
    {
     "data": {
      "text/plain": [
       "['kl', 'wasserstein']"
      ]
     },
     "execution_count": 36,
     "metadata": {},
     "output_type": "execute_result"
    }
   ],
   "source": [
    "DriftMetricsFuncs._member_names_"
   ]
  },
  {
   "cell_type": "code",
   "execution_count": null,
   "metadata": {},
   "outputs": [
    {
     "data": {
      "text/plain": [
       "['ttest', 'manwu', 'levene', 'bftest', 'ks_2samp', 'CvM', 'chi2']"
      ]
     },
     "execution_count": 37,
     "metadata": {},
     "output_type": "execute_result"
    }
   ],
   "source": [
    "DriftTestMetricsFuncs._member_names_"
   ]
  },
  {
   "cell_type": "code",
   "execution_count": null,
   "metadata": {},
   "outputs": [],
   "source": [
    "from pulsar_metrics.metrics.drift import DriftMetric"
   ]
  },
  {
   "cell_type": "code",
   "execution_count": null,
   "metadata": {},
   "outputs": [],
   "source": [
    "feature_name = 'bgr'\n",
    "kl = DriftMetric(name = 'kl',  data = df_new, feature_name = feature_name)"
   ]
  },
  {
   "cell_type": "code",
   "execution_count": null,
   "metadata": {},
   "outputs": [],
   "source": [
    "kl._result"
   ]
  },
  {
   "cell_type": "code",
   "execution_count": null,
   "metadata": {},
   "outputs": [
    {
     "data": {
      "text/plain": [
       "MetricResults(metric_name='kl', type='drift', model_id='1', model_version='2', data_id=None, feature='bgr', value=0.662768815835448, status=None, threshold=None, period_start=Timestamp('2022-08-21 00:00:00'), period_end=Timestamp('2022-08-21 00:00:00'), eval_timestamp=datetime.datetime(2022, 10, 20, 11, 30, 35, 355092), conf_int=None)"
      ]
     },
     "execution_count": 45,
     "metadata": {},
     "output_type": "execute_result"
    }
   ],
   "source": [
    "kl_result = kl.evaluate(reference = df_ref[feature_name])\n",
    "kl_result"
   ]
  },
  {
   "cell_type": "markdown",
   "metadata": {},
   "source": [
    "### Custom metrics"
   ]
  },
  {
   "cell_type": "code",
   "execution_count": null,
   "metadata": {},
   "outputs": [],
   "source": [
    "from pulsar_metrics.metrics.base import CustomMetric\n",
    "import numpy as np"
   ]
  },
  {
   "cell_type": "code",
   "execution_count": null,
   "metadata": {},
   "outputs": [],
   "source": [
    "@CustomMetric\n",
    "def custom(a, b):\n",
    "    return np.abs(a-b).min()"
   ]
  },
  {
   "cell_type": "code",
   "execution_count": null,
   "metadata": {},
   "outputs": [],
   "source": [
    "custom_metric = custom(name = 'custom', data = df_ref)"
   ]
  },
  {
   "cell_type": "code",
   "execution_count": null,
   "metadata": {},
   "outputs": [
    {
     "data": {
      "text/plain": [
       "MetricResults(metric_name='custom', type='custom', model_id='1', model_version='1', data_id=None, feature=None, value=4.0, status=None, threshold=None, period_start=Timestamp('2022-07-01 00:00:00'), period_end=Timestamp('2022-07-01 00:00:00'), eval_timestamp=datetime.datetime(2022, 10, 20, 11, 30, 35, 355092), conf_int=None)"
      ]
     },
     "execution_count": 71,
     "metadata": {},
     "output_type": "execute_result"
    }
   ],
   "source": [
    "custom_metric.evaluate(a=df_new['bgr'], b = df_ref['bgr'])"
   ]
  },
  {
   "cell_type": "markdown",
   "metadata": {},
   "source": [
    "## Analyzer"
   ]
  },
  {
   "cell_type": "code",
   "execution_count": null,
   "metadata": {},
   "outputs": [],
   "source": [
    "from pulsar_metrics.analyzers.base import Analyzer\n",
    "analysis = Analyzer(name = 'First Analyzer', description='My first Analyzer', data = df_new)"
   ]
  },
  {
   "cell_type": "code",
   "execution_count": null,
   "metadata": {},
   "outputs": [
    {
     "name": "stdout",
     "output_type": "stream",
     "text": [
      "Drift metric 'kl' for feature 'bgr' added to the analyzer list\n",
      "Drift metric 'kl' for feature 'sg' added to the analyzer list\n",
      "Drift metric 'kl' for feature 'al' added to the analyzer list\n",
      "Drift metric 'kl' for feature 'bp' added to the analyzer list\n",
      "Drift metric 'wasserstein' for feature 'bgr' added to the analyzer list\n",
      "Drift metric 'wasserstein' for feature 'sg' added to the analyzer list\n",
      "Drift metric 'wasserstein' for feature 'al' added to the analyzer list\n",
      "Drift metric 'wasserstein' for feature 'bp' added to the analyzer list\n",
      "Drift metric 'ks_2samp' for feature 'bgr' added to the analyzer list\n",
      "Drift metric 'ttest' for feature 'bgr' added to the analyzer list\n"
     ]
    }
   ],
   "source": [
    "analysis.add_drift_metrics(metrics_list=['kl', 'wasserstein'], features_list=['bgr', 'sg', 'al', 'bp'])\n",
    "analysis.add_drift_metrics(metrics_list=['ks_2samp', 'ttest'], features_list=['bgr'])"
   ]
  },
  {
   "cell_type": "code",
   "execution_count": null,
   "metadata": {},
   "outputs": [],
   "source": [
    "analysis.run(data_ref = df_ref, options = {'kl': {'threshold':0.7}, \n",
    "                                            'ttest':{'equal_var': False}})"
   ]
  },
  {
   "cell_type": "code",
   "execution_count": null,
   "metadata": {},
   "outputs": [
    {
     "data": {
      "text/html": [
       "<div>\n",
       "<style scoped>\n",
       "    .dataframe tbody tr th:only-of-type {\n",
       "        vertical-align: middle;\n",
       "    }\n",
       "\n",
       "    .dataframe tbody tr th {\n",
       "        vertical-align: top;\n",
       "    }\n",
       "\n",
       "    .dataframe thead th {\n",
       "        text-align: right;\n",
       "    }\n",
       "</style>\n",
       "<table border=\"1\" class=\"dataframe\">\n",
       "  <thead>\n",
       "    <tr style=\"text-align: right;\">\n",
       "      <th></th>\n",
       "      <th>metric_name</th>\n",
       "      <th>type</th>\n",
       "      <th>model_id</th>\n",
       "      <th>model_version</th>\n",
       "      <th>data_id</th>\n",
       "      <th>feature</th>\n",
       "      <th>value</th>\n",
       "      <th>status</th>\n",
       "      <th>threshold</th>\n",
       "      <th>period_start</th>\n",
       "      <th>period_end</th>\n",
       "      <th>eval_timestamp</th>\n",
       "      <th>conf_int</th>\n",
       "    </tr>\n",
       "  </thead>\n",
       "  <tbody>\n",
       "    <tr>\n",
       "      <th>0</th>\n",
       "      <td>kl</td>\n",
       "      <td>drift</td>\n",
       "      <td>1</td>\n",
       "      <td>2</td>\n",
       "      <td>None</td>\n",
       "      <td>bgr</td>\n",
       "      <td>0.662769</td>\n",
       "      <td>True</td>\n",
       "      <td>0.70</td>\n",
       "      <td>2022-08-21</td>\n",
       "      <td>2022-08-21</td>\n",
       "      <td>2022-10-20 11:30:35.355092</td>\n",
       "      <td>None</td>\n",
       "    </tr>\n",
       "    <tr>\n",
       "      <th>1</th>\n",
       "      <td>kl</td>\n",
       "      <td>drift</td>\n",
       "      <td>1</td>\n",
       "      <td>2</td>\n",
       "      <td>None</td>\n",
       "      <td>sg</td>\n",
       "      <td>0.846529</td>\n",
       "      <td>False</td>\n",
       "      <td>0.70</td>\n",
       "      <td>2022-08-21</td>\n",
       "      <td>2022-08-21</td>\n",
       "      <td>2022-10-20 11:30:35.355092</td>\n",
       "      <td>None</td>\n",
       "    </tr>\n",
       "    <tr>\n",
       "      <th>2</th>\n",
       "      <td>kl</td>\n",
       "      <td>drift</td>\n",
       "      <td>1</td>\n",
       "      <td>2</td>\n",
       "      <td>None</td>\n",
       "      <td>al</td>\n",
       "      <td>0.693147</td>\n",
       "      <td>True</td>\n",
       "      <td>0.70</td>\n",
       "      <td>2022-08-21</td>\n",
       "      <td>2022-08-21</td>\n",
       "      <td>2022-10-20 11:30:35.355092</td>\n",
       "      <td>None</td>\n",
       "    </tr>\n",
       "    <tr>\n",
       "      <th>3</th>\n",
       "      <td>kl</td>\n",
       "      <td>drift</td>\n",
       "      <td>1</td>\n",
       "      <td>2</td>\n",
       "      <td>None</td>\n",
       "      <td>bp</td>\n",
       "      <td>0.078603</td>\n",
       "      <td>True</td>\n",
       "      <td>0.70</td>\n",
       "      <td>2022-08-21</td>\n",
       "      <td>2022-08-21</td>\n",
       "      <td>2022-10-20 11:30:35.355092</td>\n",
       "      <td>None</td>\n",
       "    </tr>\n",
       "    <tr>\n",
       "      <th>4</th>\n",
       "      <td>wasserstein</td>\n",
       "      <td>drift</td>\n",
       "      <td>1</td>\n",
       "      <td>2</td>\n",
       "      <td>None</td>\n",
       "      <td>bgr</td>\n",
       "      <td>32.416667</td>\n",
       "      <td>None</td>\n",
       "      <td>NaN</td>\n",
       "      <td>2022-08-21</td>\n",
       "      <td>2022-08-21</td>\n",
       "      <td>2022-10-20 11:30:35.355092</td>\n",
       "      <td>None</td>\n",
       "    </tr>\n",
       "    <tr>\n",
       "      <th>5</th>\n",
       "      <td>wasserstein</td>\n",
       "      <td>drift</td>\n",
       "      <td>1</td>\n",
       "      <td>2</td>\n",
       "      <td>None</td>\n",
       "      <td>sg</td>\n",
       "      <td>0.005000</td>\n",
       "      <td>None</td>\n",
       "      <td>NaN</td>\n",
       "      <td>2022-08-21</td>\n",
       "      <td>2022-08-21</td>\n",
       "      <td>2022-10-20 11:30:35.355092</td>\n",
       "      <td>None</td>\n",
       "    </tr>\n",
       "    <tr>\n",
       "      <th>6</th>\n",
       "      <td>wasserstein</td>\n",
       "      <td>drift</td>\n",
       "      <td>1</td>\n",
       "      <td>2</td>\n",
       "      <td>None</td>\n",
       "      <td>al</td>\n",
       "      <td>0.333333</td>\n",
       "      <td>None</td>\n",
       "      <td>NaN</td>\n",
       "      <td>2022-08-21</td>\n",
       "      <td>2022-08-21</td>\n",
       "      <td>2022-10-20 11:30:35.355092</td>\n",
       "      <td>None</td>\n",
       "    </tr>\n",
       "    <tr>\n",
       "      <th>7</th>\n",
       "      <td>wasserstein</td>\n",
       "      <td>drift</td>\n",
       "      <td>1</td>\n",
       "      <td>2</td>\n",
       "      <td>None</td>\n",
       "      <td>bp</td>\n",
       "      <td>1.666667</td>\n",
       "      <td>None</td>\n",
       "      <td>NaN</td>\n",
       "      <td>2022-08-21</td>\n",
       "      <td>2022-08-21</td>\n",
       "      <td>2022-10-20 11:30:35.355092</td>\n",
       "      <td>None</td>\n",
       "    </tr>\n",
       "    <tr>\n",
       "      <th>8</th>\n",
       "      <td>ks_2samp</td>\n",
       "      <td>drift</td>\n",
       "      <td>1</td>\n",
       "      <td>2</td>\n",
       "      <td>None</td>\n",
       "      <td>bgr</td>\n",
       "      <td>0.255775</td>\n",
       "      <td>False</td>\n",
       "      <td>0.05</td>\n",
       "      <td>2022-08-21</td>\n",
       "      <td>2022-08-21</td>\n",
       "      <td>2022-10-20 11:30:35.355092</td>\n",
       "      <td>None</td>\n",
       "    </tr>\n",
       "    <tr>\n",
       "      <th>9</th>\n",
       "      <td>ttest</td>\n",
       "      <td>drift</td>\n",
       "      <td>1</td>\n",
       "      <td>2</td>\n",
       "      <td>None</td>\n",
       "      <td>bgr</td>\n",
       "      <td>0.794721</td>\n",
       "      <td>False</td>\n",
       "      <td>0.05</td>\n",
       "      <td>2022-08-21</td>\n",
       "      <td>2022-08-21</td>\n",
       "      <td>2022-10-20 11:30:35.355092</td>\n",
       "      <td>None</td>\n",
       "    </tr>\n",
       "  </tbody>\n",
       "</table>\n",
       "</div>"
      ],
      "text/plain": [
       "   metric_name   type model_id model_version data_id feature      value  \\\n",
       "0           kl  drift        1             2    None     bgr   0.662769   \n",
       "1           kl  drift        1             2    None      sg   0.846529   \n",
       "2           kl  drift        1             2    None      al   0.693147   \n",
       "3           kl  drift        1             2    None      bp   0.078603   \n",
       "4  wasserstein  drift        1             2    None     bgr  32.416667   \n",
       "5  wasserstein  drift        1             2    None      sg   0.005000   \n",
       "6  wasserstein  drift        1             2    None      al   0.333333   \n",
       "7  wasserstein  drift        1             2    None      bp   1.666667   \n",
       "8     ks_2samp  drift        1             2    None     bgr   0.255775   \n",
       "9        ttest  drift        1             2    None     bgr   0.794721   \n",
       "\n",
       "  status  threshold period_start period_end             eval_timestamp  \\\n",
       "0   True       0.70   2022-08-21 2022-08-21 2022-10-20 11:30:35.355092   \n",
       "1  False       0.70   2022-08-21 2022-08-21 2022-10-20 11:30:35.355092   \n",
       "2   True       0.70   2022-08-21 2022-08-21 2022-10-20 11:30:35.355092   \n",
       "3   True       0.70   2022-08-21 2022-08-21 2022-10-20 11:30:35.355092   \n",
       "4   None        NaN   2022-08-21 2022-08-21 2022-10-20 11:30:35.355092   \n",
       "5   None        NaN   2022-08-21 2022-08-21 2022-10-20 11:30:35.355092   \n",
       "6   None        NaN   2022-08-21 2022-08-21 2022-10-20 11:30:35.355092   \n",
       "7   None        NaN   2022-08-21 2022-08-21 2022-10-20 11:30:35.355092   \n",
       "8  False       0.05   2022-08-21 2022-08-21 2022-10-20 11:30:35.355092   \n",
       "9  False       0.05   2022-08-21 2022-08-21 2022-10-20 11:30:35.355092   \n",
       "\n",
       "  conf_int  \n",
       "0     None  \n",
       "1     None  \n",
       "2     None  \n",
       "3     None  \n",
       "4     None  \n",
       "5     None  \n",
       "6     None  \n",
       "7     None  \n",
       "8     None  \n",
       "9     None  "
      ]
     },
     "execution_count": 80,
     "metadata": {},
     "output_type": "execute_result"
    }
   ],
   "source": [
    "analysis.results_to_pandas()"
   ]
  },
  {
   "cell_type": "code",
   "execution_count": null,
   "metadata": {},
   "outputs": [],
   "source": []
  }
 ],
 "metadata": {
  "kernelspec": {
   "display_name": "Python 3.9.13 ('.venv': poetry)",
   "language": "python",
   "name": "python3"
  },
  "language_info": {
   "codemirror_mode": {
    "name": "ipython",
    "version": 3
   },
   "file_extension": ".py",
   "mimetype": "text/x-python",
   "name": "python",
   "nbconvert_exporter": "python",
   "pygments_lexer": "ipython3",
   "version": "3.9.13"
  },
  "orig_nbformat": 4,
  "vscode": {
   "interpreter": {
    "hash": "8e1672c1cddd760a5eef9058cedf44072c5597a6d9e66edb5761fc3a4dde1295"
   }
  }
 },
 "nbformat": 4,
 "nbformat_minor": 2
}
